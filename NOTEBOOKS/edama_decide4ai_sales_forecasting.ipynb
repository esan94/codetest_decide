{
 "cells": [
  {
   "cell_type": "markdown",
   "id": "cbccf7f0-c06e-452b-a5e0-12fa14a82a03",
   "metadata": {},
   "source": [
    "# EDA + Model Analysis Decide 4 AI Sales Forecasting\n",
    "> *By: Esteban Sánchez*\n",
    "____"
   ]
  },
  {
   "cell_type": "code",
   "execution_count": 1,
   "id": "3610a12c-488b-4e9c-86d8-88652d3bf393",
   "metadata": {},
   "outputs": [],
   "source": [
    "import collections\n",
    "import datetime\n",
    "import os\n",
    "import random\n",
    "import time\n",
    "import warnings\n",
    "\n",
    "import matplotlib as mpl\n",
    "import matplotlib.pyplot as plt\n",
    "import numpy as np\n",
    "import pandas as pd\n",
    "\n",
    "from lightgbm import LGBMRegressor\n",
    "from sklearn.compose import ColumnTransformer\n",
    "from sklearn.decomposition import PCA\n",
    "from sklearn.ensemble import RandomForestRegressor\n",
    "from sklearn.feature_selection import f_regression, SelectKBest\n",
    "from sklearn.linear_model import Lasso, LinearRegression, Ridge\n",
    "from sklearn.metrics import mean_squared_error\n",
    "from sklearn.neighbors import KNeighborsRegressor\n",
    "from sklearn.pipeline import Pipeline\n",
    "from sklearn.preprocessing import MinMaxScaler, OneHotEncoder, PolynomialFeatures, PowerTransformer, RobustScaler, StandardScaler\n",
    "from sklearn.svm import SVR\n",
    "from statsmodels.graphics.tsaplots import plot_pacf, plot_acf\n",
    "from statsmodels.tsa.arima.model import ARIMA\n",
    "from statsmodels.tsa.seasonal import seasonal_decompose\n",
    "from statsmodels.tsa.stattools import adfuller\n",
    "from tensorflow.keras import Sequential\n",
    "from tensorflow.keras.layers import Activation, Add, AveragePooling2D, BatchNormalization, Conv1D, Conv2D, Dense, Dropout, Flatten, Input, MaxPooling1D, MaxPooling2D\n",
    "from tslearn.metrics import dtw\n",
    "from tslearn.clustering import TimeSeriesKMeans\n",
    "\n",
    "\n",
    "mpl.rcParams['axes.spines.right'] = False\n",
    "mpl.rcParams['axes.spines.top'] = False\n",
    "warnings.filterwarnings(\"ignore\")"
   ]
  },
  {
   "cell_type": "markdown",
   "id": "0b3bf9b1-c6be-46c1-9ba5-c21b98ffe595",
   "metadata": {},
   "source": [
    "<a id = \"toc\"></a>\n",
    "### Table Of Contents\n",
    "\n",
    "- [1. Exploratory Data Analysis](#1.)\n",
    "    * [1.1. Null Values](#1.1.)\n",
    "    * [1.2. Counts](#1.2.)\n",
    "    * [1.3. Tops & Bottoms Seller Products Per Year](#1.3.)\n",
    "    * [1.4. Tops & Bottoms Growth Products Per Year](#1.4.)\n",
    "    * [1.5. Plot Products](#1.5.)\n",
    "- [2. Model Analysis](#2.)\n",
    "    * [2.1. Standardize Data](#2.1.)\n",
    "    * [2.2. ARIMA Based Models](#2.2.)\n",
    "        + [2.2.1. Best Model](#2.2.1.)\n",
    "    * [2.3. ML Based Models](#2.3.)\n",
    "        + [2.3.1. ML Data Approach](#2.3.1.)\n",
    "        + [2.3.2. Best Model](#2.3.2.)\n",
    "    * [2.4. DL Based Models](#2.4.)\n",
    "- [3. Model Selection](#3.)"
   ]
  },
  {
   "cell_type": "markdown",
   "id": "aa9d036d-8aa0-4f69-b99b-5a2eb2603878",
   "metadata": {},
   "source": [
    "<a href=\"#toc\"><p style=\"text-align:right;\" href=\"#toc\">Back To Table Of Contents</p></a> \n",
    "<a id = \"1.\"></a>\n",
    "# 1. Exploratory Data Analysis"
   ]
  },
  {
   "cell_type": "code",
   "execution_count": 2,
   "id": "bab8dea0-2ae7-45e7-9bdd-67eb153af527",
   "metadata": {},
   "outputs": [],
   "source": [
    "file_name = \"datos_venta.csv\"\n",
    "data_folder = \"DATA\"\n",
    "file_path = os.path.abspath(os.path.join(\"..\", data_folder, file_name))"
   ]
  },
  {
   "cell_type": "code",
   "execution_count": 3,
   "id": "5e473ef2-d49c-4b06-b145-12138bce76d9",
   "metadata": {},
   "outputs": [],
   "source": [
    "col_types = {\n",
    "    \"Producto\": object, \n",
    "    \"Unidades\": float, \n",
    "    \"Almacen\": object\n",
    "}"
   ]
  },
  {
   "cell_type": "code",
   "execution_count": 4,
   "id": "e431a831-43c0-4e35-826f-9ff5555dde96",
   "metadata": {},
   "outputs": [],
   "source": [
    "sales_df = pd.read_csv(file_path, sep=\";\", decimal=\",\",\n",
    "                       parse_dates=[\"Fecha Prevista de Entrega\"],\n",
    "                       dtype=col_types)\n",
    "sales_df.columns = [col.lower().replace(\" \", \"_\") for col in sales_df.columns]"
   ]
  },
  {
   "cell_type": "code",
   "execution_count": 5,
   "id": "3b90f49f-253e-4901-8fae-b8d5d648f44e",
   "metadata": {},
   "outputs": [],
   "source": [
    "for col in (\"year\", \"month\", \"day\"):\n",
    "    exec(f\"sales_df['{col}'] = sales_df['fecha_prevista_de_entrega'].dt.{col}\")\n",
    "sales_df[\"week\"] = sales_df['fecha_prevista_de_entrega'].dt.isocalendar().week"
   ]
  },
  {
   "cell_type": "code",
   "execution_count": 6,
   "id": "5f5fb30d-56f2-4d02-9cee-7a2adfca1fd4",
   "metadata": {},
   "outputs": [
    {
     "data": {
      "text/html": [
       "<div>\n",
       "<style scoped>\n",
       "    .dataframe tbody tr th:only-of-type {\n",
       "        vertical-align: middle;\n",
       "    }\n",
       "\n",
       "    .dataframe tbody tr th {\n",
       "        vertical-align: top;\n",
       "    }\n",
       "\n",
       "    .dataframe thead th {\n",
       "        text-align: right;\n",
       "    }\n",
       "</style>\n",
       "<table border=\"1\" class=\"dataframe\">\n",
       "  <thead>\n",
       "    <tr style=\"text-align: right;\">\n",
       "      <th></th>\n",
       "      <th>fecha_prevista_de_entrega</th>\n",
       "      <th>producto</th>\n",
       "      <th>unidades</th>\n",
       "      <th>almacen</th>\n",
       "      <th>year</th>\n",
       "      <th>month</th>\n",
       "      <th>day</th>\n",
       "      <th>week</th>\n",
       "    </tr>\n",
       "  </thead>\n",
       "  <tbody>\n",
       "    <tr>\n",
       "      <th>0</th>\n",
       "      <td>2017-03-24</td>\n",
       "      <td>XXLjcfd</td>\n",
       "      <td>700.0</td>\n",
       "      <td>XXA</td>\n",
       "      <td>2017</td>\n",
       "      <td>3</td>\n",
       "      <td>24</td>\n",
       "      <td>12</td>\n",
       "    </tr>\n",
       "    <tr>\n",
       "      <th>1</th>\n",
       "      <td>2017-04-03</td>\n",
       "      <td>XXLjcfd</td>\n",
       "      <td>125.0</td>\n",
       "      <td>XXA</td>\n",
       "      <td>2017</td>\n",
       "      <td>4</td>\n",
       "      <td>3</td>\n",
       "      <td>14</td>\n",
       "    </tr>\n",
       "    <tr>\n",
       "      <th>2</th>\n",
       "      <td>2017-04-04</td>\n",
       "      <td>XXLjcfd</td>\n",
       "      <td>900.0</td>\n",
       "      <td>XXA</td>\n",
       "      <td>2017</td>\n",
       "      <td>4</td>\n",
       "      <td>4</td>\n",
       "      <td>14</td>\n",
       "    </tr>\n",
       "    <tr>\n",
       "      <th>3</th>\n",
       "      <td>2017-04-04</td>\n",
       "      <td>XXLjcfd</td>\n",
       "      <td>750.0</td>\n",
       "      <td>XXA</td>\n",
       "      <td>2017</td>\n",
       "      <td>4</td>\n",
       "      <td>4</td>\n",
       "      <td>14</td>\n",
       "    </tr>\n",
       "    <tr>\n",
       "      <th>4</th>\n",
       "      <td>2017-04-07</td>\n",
       "      <td>XXLjcfd</td>\n",
       "      <td>1000.0</td>\n",
       "      <td>XXA</td>\n",
       "      <td>2017</td>\n",
       "      <td>4</td>\n",
       "      <td>7</td>\n",
       "      <td>14</td>\n",
       "    </tr>\n",
       "  </tbody>\n",
       "</table>\n",
       "</div>"
      ],
      "text/plain": [
       "  fecha_prevista_de_entrega producto  unidades almacen  year  month  day  week\n",
       "0                2017-03-24  XXLjcfd     700.0     XXA  2017      3   24    12\n",
       "1                2017-04-03  XXLjcfd     125.0     XXA  2017      4    3    14\n",
       "2                2017-04-04  XXLjcfd     900.0     XXA  2017      4    4    14\n",
       "3                2017-04-04  XXLjcfd     750.0     XXA  2017      4    4    14\n",
       "4                2017-04-07  XXLjcfd    1000.0     XXA  2017      4    7    14"
      ]
     },
     "execution_count": 6,
     "metadata": {},
     "output_type": "execute_result"
    }
   ],
   "source": [
    "sales_df.head()"
   ]
  },
  {
   "cell_type": "code",
   "execution_count": 7,
   "id": "6d607f6e-f6f9-434a-96f8-5ee4eb109e97",
   "metadata": {},
   "outputs": [
    {
     "data": {
      "text/plain": [
       "(171372, 8)"
      ]
     },
     "execution_count": 7,
     "metadata": {},
     "output_type": "execute_result"
    }
   ],
   "source": [
    "sales_df.shape"
   ]
  },
  {
   "cell_type": "markdown",
   "id": "5451476e-8b07-43f7-a93f-9d9f9ca6498b",
   "metadata": {},
   "source": [
    "<a href=\"#toc\"><p style=\"text-align:right;\" href=\"#toc\">Back To Table Of Contents</p></a> \n",
    "<a id = \"1.1.\"></a>\n",
    "# 1.1. Null Values"
   ]
  },
  {
   "cell_type": "code",
   "execution_count": 8,
   "id": "7a973f55-5a4e-4fd3-bd2b-b6c47eb7502b",
   "metadata": {},
   "outputs": [
    {
     "data": {
      "text/plain": [
       "fecha_prevista_de_entrega    0\n",
       "producto                     0\n",
       "unidades                     0\n",
       "almacen                      0\n",
       "year                         0\n",
       "month                        0\n",
       "day                          0\n",
       "week                         0\n",
       "dtype: int64"
      ]
     },
     "execution_count": 8,
     "metadata": {},
     "output_type": "execute_result"
    }
   ],
   "source": [
    "sales_df.isnull().sum()"
   ]
  },
  {
   "cell_type": "markdown",
   "id": "61c3eefb-d937-46b9-86ad-59181316b378",
   "metadata": {},
   "source": [
    "We have just see that there are not null values, however, are there sales every day?"
   ]
  },
  {
   "cell_type": "code",
   "execution_count": 9,
   "id": "f52621b6-e0c5-489f-8377-0dda0ee4d879",
   "metadata": {},
   "outputs": [
    {
     "name": "stdout",
     "output_type": "stream",
     "text": [
      "We do not have sales every day \n",
      "\n",
      "Unique date on data: 1206\n",
      "Range between min/max date: 1501\n"
     ]
    }
   ],
   "source": [
    "max_date = sales_df[\"fecha_prevista_de_entrega\"].max()\n",
    "min_date = sales_df[\"fecha_prevista_de_entrega\"].min()\n",
    "\n",
    "unique_dates = sales_df[\"fecha_prevista_de_entrega\"].nunique()\n",
    "\n",
    "if (max_date - min_date).days == unique_dates:\n",
    "    print(\"We have sales data for every day.\")\n",
    "else:\n",
    "    print(\"We do not have sales every day\", \"\\n\")\n",
    "    print(f\"Unique date on data: {unique_dates}\\nRange between min/max date: {(max_date - min_date).days}\")"
   ]
  },
  {
   "cell_type": "markdown",
   "id": "3b053cac-c834-4dd0-8512-ca7de411ddd9",
   "metadata": {},
   "source": [
    "As we can see from the previous cell on our data we have less days than the range of days between min/max date"
   ]
  },
  {
   "cell_type": "markdown",
   "id": "3db15b9a-7fe4-4122-a3a4-0d802859d87c",
   "metadata": {},
   "source": [
    "<a href=\"#toc\"><p style=\"text-align:right;\" href=\"#toc\">Back To Table Of Contents</p></a> \n",
    "<a id = \"1.2.\"></a>\n",
    "# 1.2. Counts"
   ]
  },
  {
   "cell_type": "code",
   "execution_count": 10,
   "id": "585b7df4-a743-431d-8f2e-774d65b4661c",
   "metadata": {},
   "outputs": [
    {
     "name": "stdout",
     "output_type": "stream",
     "text": [
      "There are 8 different stores.\n",
      "There are 321 different products.\n"
     ]
    }
   ],
   "source": [
    "print(f\"There are {sales_df['almacen'].nunique()} different stores.\")\n",
    "print(f\"There are {sales_df['producto'].nunique()} different products.\")"
   ]
  },
  {
   "cell_type": "code",
   "execution_count": 11,
   "id": "92ceb5b7-d144-4edf-befc-4f7e5dcd4947",
   "metadata": {},
   "outputs": [
    {
     "data": {
      "text/plain": [
       "array(['XXA', 'XXB', 'XXC', 'XXD', 'XXG', 'XXH', 'XXI', 'XXJ'],\n",
       "      dtype=object)"
      ]
     },
     "execution_count": 11,
     "metadata": {},
     "output_type": "execute_result"
    }
   ],
   "source": [
    "sales_df['almacen'].unique()"
   ]
  },
  {
   "cell_type": "markdown",
   "id": "b7679acc-d354-4f91-901d-1975b3b0d3a2",
   "metadata": {},
   "source": [
    "<a href=\"#toc\"><p style=\"text-align:right;\" href=\"#toc\">Back To Table Of Contents</p></a> \n",
    "<a id = \"1.3.\"></a>\n",
    "# 1.3. Tops & Bottoms Seller Products Per Year"
   ]
  },
  {
   "cell_type": "code",
   "execution_count": 12,
   "id": "3ccc689c-0d2a-427a-b28a-ca80b9006adf",
   "metadata": {},
   "outputs": [],
   "source": [
    "sales_aux = sales_df.groupby([\"year\", \"almacen\", \"producto\"], as_index=False)[\"unidades\"].sum()"
   ]
  },
  {
   "cell_type": "code",
   "execution_count": 13,
   "id": "62614e53-cc92-4d5b-8f5e-c5d678ef4757",
   "metadata": {},
   "outputs": [],
   "source": [
    "top3 = sales_aux.groupby([\"year\", \"almacen\"]).apply(lambda u: u.nlargest(3, \"unidades\")).reset_index(drop=True)\n",
    "bot3 = sales_aux.groupby([\"year\", \"almacen\"]).apply(lambda u: u.nsmallest(3, \"unidades\")).reset_index(drop=True)"
   ]
  },
  {
   "cell_type": "code",
   "execution_count": 14,
   "id": "38e0e719-c7f2-4d37-af0f-01f108ffe3b6",
   "metadata": {},
   "outputs": [
    {
     "data": {
      "text/html": [
       "<div>\n",
       "<style scoped>\n",
       "    .dataframe tbody tr th:only-of-type {\n",
       "        vertical-align: middle;\n",
       "    }\n",
       "\n",
       "    .dataframe tbody tr th {\n",
       "        vertical-align: top;\n",
       "    }\n",
       "\n",
       "    .dataframe thead th {\n",
       "        text-align: right;\n",
       "    }\n",
       "</style>\n",
       "<table border=\"1\" class=\"dataframe\">\n",
       "  <thead>\n",
       "    <tr style=\"text-align: right;\">\n",
       "      <th></th>\n",
       "      <th>year</th>\n",
       "      <th>almacen</th>\n",
       "      <th>producto</th>\n",
       "      <th>unidades</th>\n",
       "    </tr>\n",
       "  </thead>\n",
       "  <tbody>\n",
       "    <tr>\n",
       "      <th>45</th>\n",
       "      <td>2020</td>\n",
       "      <td>XXA</td>\n",
       "      <td>XXNjbji</td>\n",
       "      <td>4264448.56</td>\n",
       "    </tr>\n",
       "    <tr>\n",
       "      <th>46</th>\n",
       "      <td>2020</td>\n",
       "      <td>XXA</td>\n",
       "      <td>XXNjcae</td>\n",
       "      <td>2443143.00</td>\n",
       "    </tr>\n",
       "    <tr>\n",
       "      <th>47</th>\n",
       "      <td>2020</td>\n",
       "      <td>XXA</td>\n",
       "      <td>XXNajdh</td>\n",
       "      <td>538298.00</td>\n",
       "    </tr>\n",
       "    <tr>\n",
       "      <th>28</th>\n",
       "      <td>2019</td>\n",
       "      <td>XXA</td>\n",
       "      <td>XXNjbji</td>\n",
       "      <td>6946731.84</td>\n",
       "    </tr>\n",
       "    <tr>\n",
       "      <th>29</th>\n",
       "      <td>2019</td>\n",
       "      <td>XXA</td>\n",
       "      <td>XXNjcae</td>\n",
       "      <td>3517348.00</td>\n",
       "    </tr>\n",
       "    <tr>\n",
       "      <th>30</th>\n",
       "      <td>2019</td>\n",
       "      <td>XXA</td>\n",
       "      <td>XXNajdh</td>\n",
       "      <td>662076.00</td>\n",
       "    </tr>\n",
       "  </tbody>\n",
       "</table>\n",
       "</div>"
      ],
      "text/plain": [
       "    year almacen producto    unidades\n",
       "45  2020     XXA  XXNjbji  4264448.56\n",
       "46  2020     XXA  XXNjcae  2443143.00\n",
       "47  2020     XXA  XXNajdh   538298.00\n",
       "28  2019     XXA  XXNjbji  6946731.84\n",
       "29  2019     XXA  XXNjcae  3517348.00\n",
       "30  2019     XXA  XXNajdh   662076.00"
      ]
     },
     "execution_count": 14,
     "metadata": {},
     "output_type": "execute_result"
    }
   ],
   "source": [
    "top3.sort_values([\"almacen\", \"year\", \"unidades\"], ascending=[True, False, False]).head(6)"
   ]
  },
  {
   "cell_type": "code",
   "execution_count": 15,
   "id": "fbb85fea-b3fe-4b0b-a372-d8795b647b8e",
   "metadata": {},
   "outputs": [
    {
     "data": {
      "text/html": [
       "<div>\n",
       "<style scoped>\n",
       "    .dataframe tbody tr th:only-of-type {\n",
       "        vertical-align: middle;\n",
       "    }\n",
       "\n",
       "    .dataframe tbody tr th {\n",
       "        vertical-align: top;\n",
       "    }\n",
       "\n",
       "    .dataframe thead th {\n",
       "        text-align: right;\n",
       "    }\n",
       "</style>\n",
       "<table border=\"1\" class=\"dataframe\">\n",
       "  <thead>\n",
       "    <tr style=\"text-align: right;\">\n",
       "      <th></th>\n",
       "      <th>year</th>\n",
       "      <th>almacen</th>\n",
       "      <th>producto</th>\n",
       "      <th>unidades</th>\n",
       "    </tr>\n",
       "  </thead>\n",
       "  <tbody>\n",
       "    <tr>\n",
       "      <th>25</th>\n",
       "      <td>2018</td>\n",
       "      <td>XXJ</td>\n",
       "      <td>XXNjfeb</td>\n",
       "      <td>47194.0</td>\n",
       "    </tr>\n",
       "    <tr>\n",
       "      <th>26</th>\n",
       "      <td>2018</td>\n",
       "      <td>XXJ</td>\n",
       "      <td>XXNjffd</td>\n",
       "      <td>33594.0</td>\n",
       "    </tr>\n",
       "    <tr>\n",
       "      <th>27</th>\n",
       "      <td>2018</td>\n",
       "      <td>XXJ</td>\n",
       "      <td>XXNjfec</td>\n",
       "      <td>29900.0</td>\n",
       "    </tr>\n",
       "    <tr>\n",
       "      <th>12</th>\n",
       "      <td>2017</td>\n",
       "      <td>XXJ</td>\n",
       "      <td>XXNjfeb</td>\n",
       "      <td>41640.0</td>\n",
       "    </tr>\n",
       "    <tr>\n",
       "      <th>13</th>\n",
       "      <td>2017</td>\n",
       "      <td>XXJ</td>\n",
       "      <td>XXNjffd</td>\n",
       "      <td>29652.0</td>\n",
       "    </tr>\n",
       "    <tr>\n",
       "      <th>14</th>\n",
       "      <td>2017</td>\n",
       "      <td>XXJ</td>\n",
       "      <td>XXNjfff</td>\n",
       "      <td>24216.0</td>\n",
       "    </tr>\n",
       "  </tbody>\n",
       "</table>\n",
       "</div>"
      ],
      "text/plain": [
       "    year almacen producto  unidades\n",
       "25  2018     XXJ  XXNjfeb   47194.0\n",
       "26  2018     XXJ  XXNjffd   33594.0\n",
       "27  2018     XXJ  XXNjfec   29900.0\n",
       "12  2017     XXJ  XXNjfeb   41640.0\n",
       "13  2017     XXJ  XXNjffd   29652.0\n",
       "14  2017     XXJ  XXNjfff   24216.0"
      ]
     },
     "execution_count": 15,
     "metadata": {},
     "output_type": "execute_result"
    }
   ],
   "source": [
    "top3.sort_values([\"almacen\", \"year\", \"unidades\"], ascending=[True, False, False]).tail(6)"
   ]
  },
  {
   "cell_type": "code",
   "execution_count": 16,
   "id": "a8174363-f7ad-4348-aa69-165e01ce9823",
   "metadata": {},
   "outputs": [
    {
     "data": {
      "text/html": [
       "<div>\n",
       "<style scoped>\n",
       "    .dataframe tbody tr th:only-of-type {\n",
       "        vertical-align: middle;\n",
       "    }\n",
       "\n",
       "    .dataframe tbody tr th {\n",
       "        vertical-align: top;\n",
       "    }\n",
       "\n",
       "    .dataframe thead th {\n",
       "        text-align: right;\n",
       "    }\n",
       "</style>\n",
       "<table border=\"1\" class=\"dataframe\">\n",
       "  <thead>\n",
       "    <tr style=\"text-align: right;\">\n",
       "      <th></th>\n",
       "      <th>year</th>\n",
       "      <th>almacen</th>\n",
       "      <th>producto</th>\n",
       "      <th>unidades</th>\n",
       "    </tr>\n",
       "  </thead>\n",
       "  <tbody>\n",
       "    <tr>\n",
       "      <th>45</th>\n",
       "      <td>2020</td>\n",
       "      <td>XXA</td>\n",
       "      <td>XXNadga</td>\n",
       "      <td>1.0</td>\n",
       "    </tr>\n",
       "    <tr>\n",
       "      <th>46</th>\n",
       "      <td>2020</td>\n",
       "      <td>XXA</td>\n",
       "      <td>XXNadgb</td>\n",
       "      <td>1.0</td>\n",
       "    </tr>\n",
       "    <tr>\n",
       "      <th>47</th>\n",
       "      <td>2020</td>\n",
       "      <td>XXA</td>\n",
       "      <td>XXNadgj</td>\n",
       "      <td>1.0</td>\n",
       "    </tr>\n",
       "    <tr>\n",
       "      <th>30</th>\n",
       "      <td>2019</td>\n",
       "      <td>XXA</td>\n",
       "      <td>XXNjibc</td>\n",
       "      <td>600.0</td>\n",
       "    </tr>\n",
       "    <tr>\n",
       "      <th>28</th>\n",
       "      <td>2019</td>\n",
       "      <td>XXA</td>\n",
       "      <td>XXNacha</td>\n",
       "      <td>12.0</td>\n",
       "    </tr>\n",
       "    <tr>\n",
       "      <th>29</th>\n",
       "      <td>2019</td>\n",
       "      <td>XXA</td>\n",
       "      <td>XXNachb</td>\n",
       "      <td>12.0</td>\n",
       "    </tr>\n",
       "  </tbody>\n",
       "</table>\n",
       "</div>"
      ],
      "text/plain": [
       "    year almacen producto  unidades\n",
       "45  2020     XXA  XXNadga       1.0\n",
       "46  2020     XXA  XXNadgb       1.0\n",
       "47  2020     XXA  XXNadgj       1.0\n",
       "30  2019     XXA  XXNjibc     600.0\n",
       "28  2019     XXA  XXNacha      12.0\n",
       "29  2019     XXA  XXNachb      12.0"
      ]
     },
     "execution_count": 16,
     "metadata": {},
     "output_type": "execute_result"
    }
   ],
   "source": [
    "bot3.sort_values([\"almacen\", \"year\", \"unidades\"], ascending=[True, False, False]).head(6)"
   ]
  },
  {
   "cell_type": "code",
   "execution_count": 17,
   "id": "35a171be-8318-48f0-8ca7-d61ff699ef46",
   "metadata": {},
   "outputs": [
    {
     "name": "stdout",
     "output_type": "stream",
     "text": [
      "Over the 321 different products that we have on data, only 20 are in the top 3 sellers products per store.\n",
      "Over the 321 different products that we have on data, only 41 are in the bottom 3 sellers products per store.\n"
     ]
    }
   ],
   "source": [
    "print(f\"Over the {sales_df['producto'].nunique()} different products that we have on data, only {top3['producto'].nunique()} are in the top 3 sellers products per store.\")\n",
    "print(f\"Over the {sales_df['producto'].nunique()} different products that we have on data, only {bot3['producto'].nunique()} are in the bottom 3 sellers products per store.\")\n"
   ]
  },
  {
   "cell_type": "markdown",
   "id": "6d135966-f0f3-4520-ae5b-5386aac78db1",
   "metadata": {},
   "source": [
    "So as we can see from the previous cell we will have more difference between lower seller product per store than between the top seller ones."
   ]
  },
  {
   "cell_type": "markdown",
   "id": "d8819ccd-c49f-48d9-89e2-a5d26df89809",
   "metadata": {},
   "source": [
    "<a href=\"#toc\"><p style=\"text-align:right;\" href=\"#toc\">Back To Table Of Contents</p></a> \n",
    "<a id = \"1.4.\"></a>\n",
    "# 1.4. Tops & Bottoms Growth Products Per Year"
   ]
  },
  {
   "cell_type": "code",
   "execution_count": 18,
   "id": "474cc846-10de-4a4d-84df-a0d4581ca24a",
   "metadata": {},
   "outputs": [],
   "source": [
    "sales_aux = pd.pivot_table(sales_df, columns=[\"year\"], index=[\"almacen\", \"producto\"],\n",
    "                           values=[\"unidades\"], aggfunc=np.sum)\n",
    "\n",
    "sales_aux.columns = sales_aux.columns.droplevel()\n",
    "sales_aux.reset_index(inplace=True)"
   ]
  },
  {
   "cell_type": "code",
   "execution_count": 19,
   "id": "9d331f9e-3f14-4ddf-9d2a-49da5a4ee773",
   "metadata": {},
   "outputs": [],
   "source": [
    "for year in (2017, 2018, 2019, 2020):\n",
    "    sales_aux[f\"{year}_growth\"] = (sales_aux[year] - sales_aux[year - 1]).divide(sales_aux[year - 1])"
   ]
  },
  {
   "cell_type": "code",
   "execution_count": 20,
   "id": "06c6eef2-173f-458d-af3a-10d02024f3e7",
   "metadata": {},
   "outputs": [],
   "source": [
    "growth_cols = [f\"{year}_growth\" for year in (2017, 2018, 2019, 2020)]\n",
    "sales_aux[\"growth_mean\"] = sales_aux[growth_cols].mean(axis=1)\n",
    "sales_aux[\"growth_std\"] = sales_aux[growth_cols].std(axis=1)"
   ]
  },
  {
   "cell_type": "code",
   "execution_count": 21,
   "id": "cf5413a5-e1ae-40fe-b152-18a9a43d169a",
   "metadata": {},
   "outputs": [],
   "source": [
    "top_growth = sales_aux[sales_aux[\"growth_mean\"] > 0]\n",
    "bot_growth = sales_aux[sales_aux[\"growth_mean\"] < 0]"
   ]
  },
  {
   "cell_type": "code",
   "execution_count": 22,
   "id": "606d7591-1b16-4593-8508-bd0d85464ee3",
   "metadata": {},
   "outputs": [],
   "source": [
    "top5 = top_growth[[\"almacen\", \"producto\", \"growth_mean\", \"growth_std\"]] \\\n",
    "    .groupby([\"almacen\"]).apply(lambda u: u.nsmallest(5, \"growth_std\")).reset_index(drop=True)"
   ]
  },
  {
   "cell_type": "code",
   "execution_count": 23,
   "id": "c237b1f5-e788-4bad-a543-b398aef80fd4",
   "metadata": {},
   "outputs": [],
   "source": [
    "bot5 = bot_growth[[\"almacen\", \"producto\", \"growth_mean\", \"growth_std\"]] \\\n",
    "    .groupby([\"almacen\"]).apply(lambda u: u.nsmallest(5, \"growth_std\")).reset_index(drop=True)"
   ]
  },
  {
   "cell_type": "code",
   "execution_count": 24,
   "id": "152d34dd-67f4-4ee3-b073-1b57d36b4325",
   "metadata": {},
   "outputs": [
    {
     "data": {
      "text/html": [
       "<div>\n",
       "<style scoped>\n",
       "    .dataframe tbody tr th:only-of-type {\n",
       "        vertical-align: middle;\n",
       "    }\n",
       "\n",
       "    .dataframe tbody tr th {\n",
       "        vertical-align: top;\n",
       "    }\n",
       "\n",
       "    .dataframe thead th {\n",
       "        text-align: right;\n",
       "    }\n",
       "</style>\n",
       "<table border=\"1\" class=\"dataframe\">\n",
       "  <thead>\n",
       "    <tr style=\"text-align: right;\">\n",
       "      <th>year</th>\n",
       "      <th>almacen</th>\n",
       "      <th>producto</th>\n",
       "      <th>growth_mean</th>\n",
       "      <th>growth_std</th>\n",
       "    </tr>\n",
       "  </thead>\n",
       "  <tbody>\n",
       "    <tr>\n",
       "      <th>0</th>\n",
       "      <td>XXA</td>\n",
       "      <td>XXNajdj</td>\n",
       "      <td>0.016703</td>\n",
       "      <td>0.048822</td>\n",
       "    </tr>\n",
       "    <tr>\n",
       "      <th>1</th>\n",
       "      <td>XXA</td>\n",
       "      <td>XXLjgab</td>\n",
       "      <td>0.140768</td>\n",
       "      <td>0.091316</td>\n",
       "    </tr>\n",
       "    <tr>\n",
       "      <th>2</th>\n",
       "      <td>XXA</td>\n",
       "      <td>XXNjbdj</td>\n",
       "      <td>0.031660</td>\n",
       "      <td>0.116699</td>\n",
       "    </tr>\n",
       "    <tr>\n",
       "      <th>3</th>\n",
       "      <td>XXA</td>\n",
       "      <td>XXNabje</td>\n",
       "      <td>0.416667</td>\n",
       "      <td>0.117851</td>\n",
       "    </tr>\n",
       "    <tr>\n",
       "      <th>4</th>\n",
       "      <td>XXA</td>\n",
       "      <td>XXNajed</td>\n",
       "      <td>0.081078</td>\n",
       "      <td>0.134313</td>\n",
       "    </tr>\n",
       "    <tr>\n",
       "      <th>5</th>\n",
       "      <td>XXB</td>\n",
       "      <td>XXNagbj</td>\n",
       "      <td>0.002524</td>\n",
       "      <td>0.086966</td>\n",
       "    </tr>\n",
       "    <tr>\n",
       "      <th>6</th>\n",
       "      <td>XXB</td>\n",
       "      <td>XXNjaid</td>\n",
       "      <td>0.079701</td>\n",
       "      <td>0.153831</td>\n",
       "    </tr>\n",
       "    <tr>\n",
       "      <th>7</th>\n",
       "      <td>XXB</td>\n",
       "      <td>XXNjafc</td>\n",
       "      <td>0.161932</td>\n",
       "      <td>0.253892</td>\n",
       "    </tr>\n",
       "    <tr>\n",
       "      <th>8</th>\n",
       "      <td>XXB</td>\n",
       "      <td>XXNjega</td>\n",
       "      <td>0.037438</td>\n",
       "      <td>0.257227</td>\n",
       "    </tr>\n",
       "    <tr>\n",
       "      <th>9</th>\n",
       "      <td>XXB</td>\n",
       "      <td>XXNjaic</td>\n",
       "      <td>0.044800</td>\n",
       "      <td>0.273510</td>\n",
       "    </tr>\n",
       "  </tbody>\n",
       "</table>\n",
       "</div>"
      ],
      "text/plain": [
       "year almacen producto  growth_mean  growth_std\n",
       "0        XXA  XXNajdj     0.016703    0.048822\n",
       "1        XXA  XXLjgab     0.140768    0.091316\n",
       "2        XXA  XXNjbdj     0.031660    0.116699\n",
       "3        XXA  XXNabje     0.416667    0.117851\n",
       "4        XXA  XXNajed     0.081078    0.134313\n",
       "5        XXB  XXNagbj     0.002524    0.086966\n",
       "6        XXB  XXNjaid     0.079701    0.153831\n",
       "7        XXB  XXNjafc     0.161932    0.253892\n",
       "8        XXB  XXNjega     0.037438    0.257227\n",
       "9        XXB  XXNjaic     0.044800    0.273510"
      ]
     },
     "execution_count": 24,
     "metadata": {},
     "output_type": "execute_result"
    }
   ],
   "source": [
    "top5.head(10)"
   ]
  },
  {
   "cell_type": "code",
   "execution_count": 25,
   "id": "19f826ed-dff1-4a94-8390-eee31c0aeab4",
   "metadata": {},
   "outputs": [
    {
     "data": {
      "text/html": [
       "<div>\n",
       "<style scoped>\n",
       "    .dataframe tbody tr th:only-of-type {\n",
       "        vertical-align: middle;\n",
       "    }\n",
       "\n",
       "    .dataframe tbody tr th {\n",
       "        vertical-align: top;\n",
       "    }\n",
       "\n",
       "    .dataframe thead th {\n",
       "        text-align: right;\n",
       "    }\n",
       "</style>\n",
       "<table border=\"1\" class=\"dataframe\">\n",
       "  <thead>\n",
       "    <tr style=\"text-align: right;\">\n",
       "      <th>year</th>\n",
       "      <th>almacen</th>\n",
       "      <th>producto</th>\n",
       "      <th>growth_mean</th>\n",
       "      <th>growth_std</th>\n",
       "    </tr>\n",
       "  </thead>\n",
       "  <tbody>\n",
       "    <tr>\n",
       "      <th>0</th>\n",
       "      <td>XXA</td>\n",
       "      <td>XXNabaf</td>\n",
       "      <td>-0.054782</td>\n",
       "      <td>0.110167</td>\n",
       "    </tr>\n",
       "    <tr>\n",
       "      <th>1</th>\n",
       "      <td>XXA</td>\n",
       "      <td>XXNjaad</td>\n",
       "      <td>-0.064261</td>\n",
       "      <td>0.115205</td>\n",
       "    </tr>\n",
       "    <tr>\n",
       "      <th>2</th>\n",
       "      <td>XXA</td>\n",
       "      <td>XXNjahf</td>\n",
       "      <td>-0.405544</td>\n",
       "      <td>0.115944</td>\n",
       "    </tr>\n",
       "    <tr>\n",
       "      <th>3</th>\n",
       "      <td>XXA</td>\n",
       "      <td>XXNabib</td>\n",
       "      <td>-0.158333</td>\n",
       "      <td>0.129636</td>\n",
       "    </tr>\n",
       "    <tr>\n",
       "      <th>4</th>\n",
       "      <td>XXA</td>\n",
       "      <td>XXNjaid</td>\n",
       "      <td>-0.284767</td>\n",
       "      <td>0.133908</td>\n",
       "    </tr>\n",
       "    <tr>\n",
       "      <th>5</th>\n",
       "      <td>XXB</td>\n",
       "      <td>XXNajjb</td>\n",
       "      <td>-0.360845</td>\n",
       "      <td>0.055939</td>\n",
       "    </tr>\n",
       "    <tr>\n",
       "      <th>6</th>\n",
       "      <td>XXB</td>\n",
       "      <td>XXNjhef</td>\n",
       "      <td>-0.081787</td>\n",
       "      <td>0.090149</td>\n",
       "    </tr>\n",
       "    <tr>\n",
       "      <th>7</th>\n",
       "      <td>XXB</td>\n",
       "      <td>XXNjbci</td>\n",
       "      <td>-0.077035</td>\n",
       "      <td>0.129531</td>\n",
       "    </tr>\n",
       "    <tr>\n",
       "      <th>8</th>\n",
       "      <td>XXB</td>\n",
       "      <td>XXNjiha</td>\n",
       "      <td>-0.090581</td>\n",
       "      <td>0.129771</td>\n",
       "    </tr>\n",
       "    <tr>\n",
       "      <th>9</th>\n",
       "      <td>XXB</td>\n",
       "      <td>XXNjagd</td>\n",
       "      <td>-0.335481</td>\n",
       "      <td>0.151724</td>\n",
       "    </tr>\n",
       "  </tbody>\n",
       "</table>\n",
       "</div>"
      ],
      "text/plain": [
       "year almacen producto  growth_mean  growth_std\n",
       "0        XXA  XXNabaf    -0.054782    0.110167\n",
       "1        XXA  XXNjaad    -0.064261    0.115205\n",
       "2        XXA  XXNjahf    -0.405544    0.115944\n",
       "3        XXA  XXNabib    -0.158333    0.129636\n",
       "4        XXA  XXNjaid    -0.284767    0.133908\n",
       "5        XXB  XXNajjb    -0.360845    0.055939\n",
       "6        XXB  XXNjhef    -0.081787    0.090149\n",
       "7        XXB  XXNjbci    -0.077035    0.129531\n",
       "8        XXB  XXNjiha    -0.090581    0.129771\n",
       "9        XXB  XXNjagd    -0.335481    0.151724"
      ]
     },
     "execution_count": 25,
     "metadata": {},
     "output_type": "execute_result"
    }
   ],
   "source": [
    "bot5.head(10)"
   ]
  },
  {
   "cell_type": "markdown",
   "id": "01211137-f075-4440-a2f4-ef2c99bf0311",
   "metadata": {},
   "source": [
    "<a href=\"#toc\"><p style=\"text-align:right;\" href=\"#toc\">Back To Table Of Contents</p></a> \n",
    "<a id = \"1.5.\"></a>\n",
    "# 1.5. Plot Products"
   ]
  },
  {
   "cell_type": "code",
   "execution_count": 26,
   "id": "d70aef66-f688-4032-a689-f4bac8101d5b",
   "metadata": {},
   "outputs": [],
   "source": [
    "def plot_product_by_store(df, product, store):\n",
    "    \"\"\"Plot sells of a product per store, the total of selling and mean across the stores.\n",
    "    \n",
    "    Parameters\n",
    "    ----------\n",
    "        df pd.DataFrame:\n",
    "            Object with the data to plot.\n",
    "        \n",
    "        product str:\n",
    "            String which corresponds with the product we want to plot.\n",
    "        \n",
    "        store str:\n",
    "            String which corresponds with the store we want to highlight in the plot.\n",
    "            \n",
    "    Returns\n",
    "    -------\n",
    "        None\n",
    "        \n",
    "    \"\"\"\n",
    "    # Create a figure with a fixed size.\n",
    "    my_dpi=96\n",
    "    plt.figure(figsize=(960/my_dpi, 480/my_dpi), dpi=my_dpi)\n",
    "    \n",
    "    # Preprocess data to be the input of the plot.\n",
    "    df = df[df[\"producto\"] == product]\n",
    "    df = df.groupby([\"year\", \"month\", \"almacen\"], as_index=False)[\"unidades\"].sum()\n",
    "    df = df.astype({\"year\": str, \"month\": str})\n",
    "    df[\"month_sales\"] = df[\"year\"] + \"-\" + df[\"month\"] + \"-01\"\n",
    "    df['month_sales'] = pd.to_datetime(df['month_sales'], errors='coerce').dropna()\n",
    "    df.sort_values(\"month_sales\", ascending=True, inplace=True)\n",
    "    mean_store_df = df.groupby([\"month_sales\"], as_index=False)[\"unidades\"].agg([\"sum\", \"mean\"])\n",
    "    df = df[df[\"almacen\"] == store]\n",
    "    df_tot = pd.merge(left=df, right=mean_store_df, how=\"right\", on=\"month_sales\")\n",
    "    df_tot[\"unidades\"].fillna(0, inplace=True)\n",
    "    \n",
    "    # Create labels for xticks.\n",
    "    labels = [str(e.year)[-2:] + \"/\" + str(e.month) if idx % 5 == 0 else \"\" for idx, e in enumerate(df_tot['month_sales'])]\n",
    "    \n",
    "    # Plot stackplot with the products of the store and the total across stores.\n",
    "    plt.stackplot(df_tot['month_sales'], df_tot['unidades'], df_tot[\"sum\"], colors=[\"#FF8206\", \"#CACACA\"], alpha=.6)\n",
    "    \n",
    "    # Plot the mean of sells across stores.\n",
    "    plt.plot(df_tot['month_sales'], df_tot['mean'], marker='', color='#6600E6', linewidth=2, alpha=1)\n",
    "    \n",
    "    # Customize the graph.\n",
    "    plt.xticks(list(df_tot['month_sales'].unique()), labels);\n",
    "    plt.ylabel(\"Units\");\n",
    "    plt.tick_params(bottom=False, left=False);\n",
    "    plt.legend([\"Mean Sells\", store, \"Total Sells\"], loc=\"upper right\", frameon=False, labelcolor=\"linecolor\")\n",
    "    plt.title(f\"Product: {product}\\n\")"
   ]
  },
  {
   "cell_type": "code",
   "execution_count": 27,
   "id": "f30a570d-86f3-49e7-8a3b-1c78104c0910",
   "metadata": {},
   "outputs": [
    {
     "data": {
      "image/png": "[encoded data removed]",
      "text/plain": [
       "<Figure size 960x480 with 1 Axes>"
      ]
     },
     "metadata": {
      "needs_background": "light"
     },
     "output_type": "display_data"
    }
   ],
   "source": [
    "plot_product_by_store(sales_df, \"XXNjbji\", \"XXA\")"
   ]
  },
  {
   "cell_type": "code",
   "execution_count": 28,
   "id": "ab620758-8e83-4882-abd4-49aad9bd0fe4",
   "metadata": {},
   "outputs": [
    {
     "data": {
      "image/png": "[encoded data removed]",
      "text/plain": [
       "<Figure size 960x480 with 1 Axes>"
      ]
     },
     "metadata": {
      "needs_background": "light"
     },
     "output_type": "display_data"
    }
   ],
   "source": [
    "plot_product_by_store(sales_df, \"XXNadga\", \"XXA\")"
   ]
  },
  {
   "cell_type": "code",
   "execution_count": 29,
   "id": "02dfcc33-88c5-41ab-a118-cc32204d3597",
   "metadata": {},
   "outputs": [
    {
     "data": {
      "image/png": "[encoded data removed]",
      "text/plain": [
       "<Figure size 960x480 with 1 Axes>"
      ]
     },
     "metadata": {
      "needs_background": "light"
     },
     "output_type": "display_data"
    }
   ],
   "source": [
    "plot_product_by_store(sales_df, \"XXLjgab\", \"XXA\")"
   ]
  },
  {
   "cell_type": "code",
   "execution_count": 30,
   "id": "e6946b51-3000-4824-8c2f-a0c187f11fde",
   "metadata": {},
   "outputs": [
    {
     "data": {
      "image/png": "[encoded data removed]",
      "text/plain": [
       "<Figure size 960x480 with 1 Axes>"
      ]
     },
     "metadata": {
      "needs_background": "light"
     },
     "output_type": "display_data"
    }
   ],
   "source": [
    "plot_product_by_store(sales_df, \"XXNjagd\", \"XXB\")"
   ]
  },
  {
   "cell_type": "markdown",
   "id": "086c1857-7567-4213-9002-346cdcf34fe7",
   "metadata": {},
   "source": [
    "<a href=\"#toc\"><p style=\"text-align:right;\" href=\"#toc\">Back To Table Of Contents</p></a> \n",
    "<a id = \"2.\"></a>\n",
    "# 2. Model Analysis"
   ]
  },
  {
   "cell_type": "markdown",
   "id": "d040199c-fd17-4eae-8dd7-5ae719d82c33",
   "metadata": {},
   "source": [
    "<a href=\"#toc\"><p style=\"text-align:right;\" href=\"#toc\">Back To Table Of Contents</p></a> \n",
    "<a id = \"2.1.\"></a>\n",
    "# 2.1. Standardize Data"
   ]
  },
  {
   "cell_type": "markdown",
   "id": "88844443-31bf-4d1c-af7b-0a01fbdec95d",
   "metadata": {},
   "source": [
    "Due to the goal is to forecast the demand of the following 8 weeks we have to group by our data in weeks"
   ]
  },
  {
   "cell_type": "code",
   "execution_count": 31,
   "id": "04ae0d31-4003-451e-af94-0d1a73ac8b4c",
   "metadata": {},
   "outputs": [],
   "source": [
    "def get_last_day_of_week(day):\n",
    "    \"\"\"Return last day of the week for a given day.\n",
    "    \n",
    "    Parameters\n",
    "    ----------\n",
    "        day datetime.date:\n",
    "            Day to calculate last day of week.\n",
    "    \n",
    "    Returns\n",
    "    -------\n",
    "        datetime.date:\n",
    "            Last day of the week for the corresponding day.\n",
    "    \"\"\"\n",
    "    \n",
    "    return day + datetime.timedelta(days=6 - day.weekday())"
   ]
  },
  {
   "cell_type": "code",
   "execution_count": 32,
   "id": "7f2c78a8-f4ba-407b-9680-8862b30dac55",
   "metadata": {},
   "outputs": [],
   "source": [
    "sales_df[\"last_weekday\"] = sales_df[\"fecha_prevista_de_entrega\"].apply(get_last_day_of_week)"
   ]
  },
  {
   "cell_type": "code",
   "execution_count": 33,
   "id": "178eeda8-6aaf-4faa-89c0-a330e1dc10dd",
   "metadata": {},
   "outputs": [
    {
     "data": {
      "text/plain": [
       "(36498, 4)"
      ]
     },
     "execution_count": 33,
     "metadata": {},
     "output_type": "execute_result"
    }
   ],
   "source": [
    "df = sales_df.groupby([\"last_weekday\", \"almacen\", \"producto\"], as_index=False)[\"unidades\"].sum()\n",
    "df.shape"
   ]
  },
  {
   "cell_type": "code",
   "execution_count": 34,
   "id": "86f67a89-4daf-4af1-b41d-8d397ac2bb7a",
   "metadata": {},
   "outputs": [],
   "source": [
    "df = df.sort_values(\"last_weekday\").reset_index(drop=True)"
   ]
  },
  {
   "cell_type": "code",
   "execution_count": 35,
   "id": "3b7b5ff9-6dad-495e-a5a0-4ab869ed4592",
   "metadata": {},
   "outputs": [
    {
     "data": {
      "text/html": [
       "<div>\n",
       "<style scoped>\n",
       "    .dataframe tbody tr th:only-of-type {\n",
       "        vertical-align: middle;\n",
       "    }\n",
       "\n",
       "    .dataframe tbody tr th {\n",
       "        vertical-align: top;\n",
       "    }\n",
       "\n",
       "    .dataframe thead th {\n",
       "        text-align: right;\n",
       "    }\n",
       "</style>\n",
       "<table border=\"1\" class=\"dataframe\">\n",
       "  <thead>\n",
       "    <tr style=\"text-align: right;\">\n",
       "      <th></th>\n",
       "      <th>last_weekday</th>\n",
       "      <th>almacen</th>\n",
       "      <th>producto</th>\n",
       "      <th>unidades</th>\n",
       "    </tr>\n",
       "  </thead>\n",
       "  <tbody>\n",
       "    <tr>\n",
       "      <th>36495</th>\n",
       "      <td>2021-01-03</td>\n",
       "      <td>XXD</td>\n",
       "      <td>XXNabcb</td>\n",
       "      <td>9606.0</td>\n",
       "    </tr>\n",
       "    <tr>\n",
       "      <th>36496</th>\n",
       "      <td>2021-01-03</td>\n",
       "      <td>XXD</td>\n",
       "      <td>XXNabai</td>\n",
       "      <td>20.0</td>\n",
       "    </tr>\n",
       "    <tr>\n",
       "      <th>36497</th>\n",
       "      <td>2021-01-03</td>\n",
       "      <td>XXJ</td>\n",
       "      <td>XXNjfff</td>\n",
       "      <td>144.0</td>\n",
       "    </tr>\n",
       "  </tbody>\n",
       "</table>\n",
       "</div>"
      ],
      "text/plain": [
       "      last_weekday almacen producto  unidades\n",
       "36495   2021-01-03     XXD  XXNabcb    9606.0\n",
       "36496   2021-01-03     XXD  XXNabai      20.0\n",
       "36497   2021-01-03     XXJ  XXNjfff     144.0"
      ]
     },
     "execution_count": 35,
     "metadata": {},
     "output_type": "execute_result"
    }
   ],
   "source": [
    "df.tail(3)"
   ]
  },
  {
   "cell_type": "markdown",
   "id": "961c63e1-0e0a-4267-b122-5bad49baac6c",
   "metadata": {},
   "source": [
    "As we can see from section [1.1. Null Values](#1.1.) there are empty days, so let's get deeper in that fact."
   ]
  },
  {
   "cell_type": "code",
   "execution_count": 36,
   "id": "bfb43082-0db5-46b3-aaf9-9db7fab6403c",
   "metadata": {},
   "outputs": [],
   "source": [
    "weekly_date_range = pd.date_range(df[\"last_weekday\"].min(), df[\"last_weekday\"].max(), freq='W-SUN')"
   ]
  },
  {
   "cell_type": "code",
   "execution_count": 37,
   "id": "93bbb8e3-98ab-497f-bbb6-4f59beb4265e",
   "metadata": {},
   "outputs": [
    {
     "name": "stdout",
     "output_type": "stream",
     "text": [
      "Total number of end of weeks: 215\n",
      "Total number of end of weeks in our data: 211\n"
     ]
    }
   ],
   "source": [
    "print(f\"Total number of end of weeks: {len(weekly_date_range)}\")\n",
    "print(f\"Total number of end of weeks in our data: {df['last_weekday'].nunique()}\")"
   ]
  },
  {
   "cell_type": "code",
   "execution_count": 38,
   "id": "2449c6a4-2f21-49b6-9ef7-e3501170597d",
   "metadata": {},
   "outputs": [
    {
     "data": {
      "text/plain": [
       "[Timestamp('2016-12-11 00:00:00', freq='W-SUN'),\n",
       " Timestamp('2016-12-18 00:00:00', freq='W-SUN'),\n",
       " Timestamp('2016-12-25 00:00:00', freq='W-SUN'),\n",
       " Timestamp('2017-01-01 00:00:00', freq='W-SUN')]"
      ]
     },
     "execution_count": 38,
     "metadata": {},
     "output_type": "execute_result"
    }
   ],
   "source": [
    "[e for e in weekly_date_range if e not in df[\"last_weekday\"].unique()]"
   ]
  },
  {
   "cell_type": "code",
   "execution_count": 39,
   "id": "467e9058-5630-424e-8918-d77063f5e53e",
   "metadata": {},
   "outputs": [
    {
     "data": {
      "text/html": [
       "<div>\n",
       "<style scoped>\n",
       "    .dataframe tbody tr th:only-of-type {\n",
       "        vertical-align: middle;\n",
       "    }\n",
       "\n",
       "    .dataframe tbody tr th {\n",
       "        vertical-align: top;\n",
       "    }\n",
       "\n",
       "    .dataframe thead th {\n",
       "        text-align: right;\n",
       "    }\n",
       "</style>\n",
       "<table border=\"1\" class=\"dataframe\">\n",
       "  <thead>\n",
       "    <tr style=\"text-align: right;\">\n",
       "      <th></th>\n",
       "      <th>last_weekday</th>\n",
       "      <th>almacen</th>\n",
       "      <th>producto</th>\n",
       "      <th>unidades</th>\n",
       "    </tr>\n",
       "  </thead>\n",
       "  <tbody>\n",
       "    <tr>\n",
       "      <th>0</th>\n",
       "      <td>2016-11-27</td>\n",
       "      <td>XXA</td>\n",
       "      <td>XXNjbji</td>\n",
       "      <td>3757.0</td>\n",
       "    </tr>\n",
       "    <tr>\n",
       "      <th>1</th>\n",
       "      <td>2016-12-04</td>\n",
       "      <td>XXA</td>\n",
       "      <td>XXNjbji</td>\n",
       "      <td>9594.0</td>\n",
       "    </tr>\n",
       "    <tr>\n",
       "      <th>2</th>\n",
       "      <td>2017-01-08</td>\n",
       "      <td>XXA</td>\n",
       "      <td>XXNjcae</td>\n",
       "      <td>4400.0</td>\n",
       "    </tr>\n",
       "    <tr>\n",
       "      <th>3</th>\n",
       "      <td>2017-01-15</td>\n",
       "      <td>XXA</td>\n",
       "      <td>XXNjbji</td>\n",
       "      <td>1240.0</td>\n",
       "    </tr>\n",
       "    <tr>\n",
       "      <th>4</th>\n",
       "      <td>2017-01-15</td>\n",
       "      <td>XXA</td>\n",
       "      <td>XXNjgag</td>\n",
       "      <td>12480.0</td>\n",
       "    </tr>\n",
       "  </tbody>\n",
       "</table>\n",
       "</div>"
      ],
      "text/plain": [
       "  last_weekday almacen producto  unidades\n",
       "0   2016-11-27     XXA  XXNjbji    3757.0\n",
       "1   2016-12-04     XXA  XXNjbji    9594.0\n",
       "2   2017-01-08     XXA  XXNjcae    4400.0\n",
       "3   2017-01-15     XXA  XXNjbji    1240.0\n",
       "4   2017-01-15     XXA  XXNjgag   12480.0"
      ]
     },
     "execution_count": 39,
     "metadata": {},
     "output_type": "execute_result"
    }
   ],
   "source": [
    "df.head()"
   ]
  },
  {
   "cell_type": "markdown",
   "id": "7ec72926-4525-4869-9492-22e1b2ec631e",
   "metadata": {},
   "source": [
    "As we can see from the latest 2 cells the weeks we do not have in our data are latest days of 2016 and first week of 2017. We are going to going on with the data up to 2017-01-08 in order to solve this because dropping ancient dates will remove less that a 1% of the weeks, as we can see in the following cell."
   ]
  },
  {
   "cell_type": "code",
   "execution_count": 40,
   "id": "c6fd8b29-046c-488c-adc8-9230530be8a2",
   "metadata": {},
   "outputs": [
    {
     "name": "stdout",
     "output_type": "stream",
     "text": [
      "0.9478672985781991\n"
     ]
    }
   ],
   "source": [
    "print(100 * df[df[\"last_weekday\"] < \"2017-01-08\"][\"last_weekday\"].nunique() / df[\"last_weekday\"].nunique())"
   ]
  },
  {
   "cell_type": "code",
   "execution_count": 41,
   "id": "7e966c35-9147-4dbd-b63a-a9e2ecb3484c",
   "metadata": {},
   "outputs": [
    {
     "data": {
      "text/plain": [
       "(36496, 4)"
      ]
     },
     "execution_count": 41,
     "metadata": {},
     "output_type": "execute_result"
    }
   ],
   "source": [
    "df = df[df[\"last_weekday\"] >= \"2017-01-08\"]\n",
    "df.shape"
   ]
  },
  {
   "cell_type": "code",
   "execution_count": 42,
   "id": "c6a277b0-ca7a-4176-acb8-fc7fa89d053b",
   "metadata": {},
   "outputs": [
    {
     "data": {
      "text/html": [
       "<div>\n",
       "<style scoped>\n",
       "    .dataframe tbody tr th:only-of-type {\n",
       "        vertical-align: middle;\n",
       "    }\n",
       "\n",
       "    .dataframe tbody tr th {\n",
       "        vertical-align: top;\n",
       "    }\n",
       "\n",
       "    .dataframe thead th {\n",
       "        text-align: right;\n",
       "    }\n",
       "</style>\n",
       "<table border=\"1\" class=\"dataframe\">\n",
       "  <thead>\n",
       "    <tr style=\"text-align: right;\">\n",
       "      <th></th>\n",
       "      <th>last_weekday</th>\n",
       "      <th>almacen</th>\n",
       "      <th>producto</th>\n",
       "      <th>unidades</th>\n",
       "    </tr>\n",
       "  </thead>\n",
       "  <tbody>\n",
       "    <tr>\n",
       "      <th>2</th>\n",
       "      <td>2017-01-08</td>\n",
       "      <td>XXA</td>\n",
       "      <td>XXNjcae</td>\n",
       "      <td>4400.0</td>\n",
       "    </tr>\n",
       "    <tr>\n",
       "      <th>3</th>\n",
       "      <td>2017-01-15</td>\n",
       "      <td>XXA</td>\n",
       "      <td>XXNjbji</td>\n",
       "      <td>1240.0</td>\n",
       "    </tr>\n",
       "    <tr>\n",
       "      <th>4</th>\n",
       "      <td>2017-01-15</td>\n",
       "      <td>XXA</td>\n",
       "      <td>XXNjgag</td>\n",
       "      <td>12480.0</td>\n",
       "    </tr>\n",
       "    <tr>\n",
       "      <th>5</th>\n",
       "      <td>2017-01-22</td>\n",
       "      <td>XXB</td>\n",
       "      <td>XXNjefh</td>\n",
       "      <td>800.0</td>\n",
       "    </tr>\n",
       "    <tr>\n",
       "      <th>6</th>\n",
       "      <td>2017-01-22</td>\n",
       "      <td>XXA</td>\n",
       "      <td>XXNjbji</td>\n",
       "      <td>967.0</td>\n",
       "    </tr>\n",
       "  </tbody>\n",
       "</table>\n",
       "</div>"
      ],
      "text/plain": [
       "  last_weekday almacen producto  unidades\n",
       "2   2017-01-08     XXA  XXNjcae    4400.0\n",
       "3   2017-01-15     XXA  XXNjbji    1240.0\n",
       "4   2017-01-15     XXA  XXNjgag   12480.0\n",
       "5   2017-01-22     XXB  XXNjefh     800.0\n",
       "6   2017-01-22     XXA  XXNjbji     967.0"
      ]
     },
     "execution_count": 42,
     "metadata": {},
     "output_type": "execute_result"
    }
   ],
   "source": [
    "df.head()"
   ]
  },
  {
   "cell_type": "markdown",
   "id": "4a470677-e4e5-4a5d-93dc-76e8d1a2c24c",
   "metadata": {},
   "source": [
    "Because of our data is weekly we want to calculate the forecasting to the following 10 steps (10 weeks ~ 2 months). Specifically we want to calculate the months of January and February of 2021 so we have to drop our data from that date.\n",
    "\n",
    "In order to choose the best model we have to make a cross validation considering the time, for this case test size is going to be 10 weeks and we are going to compute 5 folds."
   ]
  },
  {
   "cell_type": "code",
   "execution_count": 43,
   "id": "ee2ec7b6-0b5a-4853-9bc0-0ffcf1e53383",
   "metadata": {},
   "outputs": [],
   "source": [
    "df_2021 = df[df[\"last_weekday\"].dt.year == 2021]\n",
    "df = df[df[\"last_weekday\"].dt.year < 2021]"
   ]
  },
  {
   "cell_type": "code",
   "execution_count": 44,
   "id": "79f3e2c1-77be-4600-a3e4-89564946bdf5",
   "metadata": {},
   "outputs": [
    {
     "data": {
      "text/html": [
       "<div>\n",
       "<style scoped>\n",
       "    .dataframe tbody tr th:only-of-type {\n",
       "        vertical-align: middle;\n",
       "    }\n",
       "\n",
       "    .dataframe tbody tr th {\n",
       "        vertical-align: top;\n",
       "    }\n",
       "\n",
       "    .dataframe thead th {\n",
       "        text-align: right;\n",
       "    }\n",
       "</style>\n",
       "<table border=\"1\" class=\"dataframe\">\n",
       "  <thead>\n",
       "    <tr style=\"text-align: right;\">\n",
       "      <th></th>\n",
       "      <th>XXA</th>\n",
       "      <th>XXB</th>\n",
       "      <th>XXC</th>\n",
       "      <th>XXD</th>\n",
       "      <th>XXG</th>\n",
       "      <th>XXH</th>\n",
       "      <th>XXI</th>\n",
       "      <th>XXJ</th>\n",
       "      <th>XXLjcfd</th>\n",
       "      <th>XXLjgab</th>\n",
       "      <th>...</th>\n",
       "      <th>XXNjiie</th>\n",
       "      <th>XXNjjdf</th>\n",
       "      <th>XXNjjeh</th>\n",
       "      <th>XXNjjfc</th>\n",
       "      <th>XXNjjfd</th>\n",
       "      <th>XXNjjff</th>\n",
       "      <th>XXNjjfj</th>\n",
       "      <th>XXNjjgc</th>\n",
       "      <th>XXNjjgd</th>\n",
       "      <th>XXNjjha</th>\n",
       "    </tr>\n",
       "  </thead>\n",
       "  <tbody>\n",
       "    <tr>\n",
       "      <th>2</th>\n",
       "      <td>1</td>\n",
       "      <td>0</td>\n",
       "      <td>0</td>\n",
       "      <td>0</td>\n",
       "      <td>0</td>\n",
       "      <td>0</td>\n",
       "      <td>0</td>\n",
       "      <td>0</td>\n",
       "      <td>0</td>\n",
       "      <td>0</td>\n",
       "      <td>...</td>\n",
       "      <td>0</td>\n",
       "      <td>0</td>\n",
       "      <td>0</td>\n",
       "      <td>0</td>\n",
       "      <td>0</td>\n",
       "      <td>0</td>\n",
       "      <td>0</td>\n",
       "      <td>0</td>\n",
       "      <td>0</td>\n",
       "      <td>0</td>\n",
       "    </tr>\n",
       "    <tr>\n",
       "      <th>3</th>\n",
       "      <td>1</td>\n",
       "      <td>0</td>\n",
       "      <td>0</td>\n",
       "      <td>0</td>\n",
       "      <td>0</td>\n",
       "      <td>0</td>\n",
       "      <td>0</td>\n",
       "      <td>0</td>\n",
       "      <td>0</td>\n",
       "      <td>0</td>\n",
       "      <td>...</td>\n",
       "      <td>0</td>\n",
       "      <td>0</td>\n",
       "      <td>0</td>\n",
       "      <td>0</td>\n",
       "      <td>0</td>\n",
       "      <td>0</td>\n",
       "      <td>0</td>\n",
       "      <td>0</td>\n",
       "      <td>0</td>\n",
       "      <td>0</td>\n",
       "    </tr>\n",
       "    <tr>\n",
       "      <th>4</th>\n",
       "      <td>1</td>\n",
       "      <td>0</td>\n",
       "      <td>0</td>\n",
       "      <td>0</td>\n",
       "      <td>0</td>\n",
       "      <td>0</td>\n",
       "      <td>0</td>\n",
       "      <td>0</td>\n",
       "      <td>0</td>\n",
       "      <td>0</td>\n",
       "      <td>...</td>\n",
       "      <td>0</td>\n",
       "      <td>0</td>\n",
       "      <td>0</td>\n",
       "      <td>0</td>\n",
       "      <td>0</td>\n",
       "      <td>0</td>\n",
       "      <td>0</td>\n",
       "      <td>0</td>\n",
       "      <td>0</td>\n",
       "      <td>0</td>\n",
       "    </tr>\n",
       "    <tr>\n",
       "      <th>5</th>\n",
       "      <td>0</td>\n",
       "      <td>1</td>\n",
       "      <td>0</td>\n",
       "      <td>0</td>\n",
       "      <td>0</td>\n",
       "      <td>0</td>\n",
       "      <td>0</td>\n",
       "      <td>0</td>\n",
       "      <td>0</td>\n",
       "      <td>0</td>\n",
       "      <td>...</td>\n",
       "      <td>0</td>\n",
       "      <td>0</td>\n",
       "      <td>0</td>\n",
       "      <td>0</td>\n",
       "      <td>0</td>\n",
       "      <td>0</td>\n",
       "      <td>0</td>\n",
       "      <td>0</td>\n",
       "      <td>0</td>\n",
       "      <td>0</td>\n",
       "    </tr>\n",
       "    <tr>\n",
       "      <th>6</th>\n",
       "      <td>1</td>\n",
       "      <td>0</td>\n",
       "      <td>0</td>\n",
       "      <td>0</td>\n",
       "      <td>0</td>\n",
       "      <td>0</td>\n",
       "      <td>0</td>\n",
       "      <td>0</td>\n",
       "      <td>0</td>\n",
       "      <td>0</td>\n",
       "      <td>...</td>\n",
       "      <td>0</td>\n",
       "      <td>0</td>\n",
       "      <td>0</td>\n",
       "      <td>0</td>\n",
       "      <td>0</td>\n",
       "      <td>0</td>\n",
       "      <td>0</td>\n",
       "      <td>0</td>\n",
       "      <td>0</td>\n",
       "      <td>0</td>\n",
       "    </tr>\n",
       "  </tbody>\n",
       "</table>\n",
       "<p>5 rows × 329 columns</p>\n",
       "</div>"
      ],
      "text/plain": [
       "   XXA  XXB  XXC  XXD  XXG  XXH  XXI  XXJ  XXLjcfd  XXLjgab  ...  XXNjiie  \\\n",
       "2    1    0    0    0    0    0    0    0        0        0  ...        0   \n",
       "3    1    0    0    0    0    0    0    0        0        0  ...        0   \n",
       "4    1    0    0    0    0    0    0    0        0        0  ...        0   \n",
       "5    0    1    0    0    0    0    0    0        0        0  ...        0   \n",
       "6    1    0    0    0    0    0    0    0        0        0  ...        0   \n",
       "\n",
       "   XXNjjdf  XXNjjeh  XXNjjfc  XXNjjfd  XXNjjff  XXNjjfj  XXNjjgc  XXNjjgd  \\\n",
       "2        0        0        0        0        0        0        0        0   \n",
       "3        0        0        0        0        0        0        0        0   \n",
       "4        0        0        0        0        0        0        0        0   \n",
       "5        0        0        0        0        0        0        0        0   \n",
       "6        0        0        0        0        0        0        0        0   \n",
       "\n",
       "   XXNjjha  \n",
       "2        0  \n",
       "3        0  \n",
       "4        0  \n",
       "5        0  \n",
       "6        0  \n",
       "\n",
       "[5 rows x 329 columns]"
      ]
     },
     "execution_count": 44,
     "metadata": {},
     "output_type": "execute_result"
    }
   ],
   "source": [
    "dummies = pd.concat([pd.get_dummies(df[\"almacen\"]), pd.get_dummies(df[\"producto\"])], axis=1)\n",
    "dummies.head()"
   ]
  },
  {
   "cell_type": "code",
   "execution_count": 45,
   "id": "4d864947-e05a-4846-a7e0-763257e3bad6",
   "metadata": {},
   "outputs": [],
   "source": [
    "folds = []\n",
    "for i in range(5):\n",
    "    train_dates = df[\"last_weekday\"].unique()[:-14 + i]\n",
    "    test_dates = df[\"last_weekday\"].unique()[-14 + i:][:10]\n",
    "    \n",
    "    train = df[df[\"last_weekday\"].isin(train_dates)]\n",
    "    test = df[df[\"last_weekday\"].isin(test_dates)]\n",
    "    \n",
    "    train_exo = dummies[dummies.index.isin(train.index)]\n",
    "    test_exo = dummies[dummies.index.isin(test.index)]\n",
    "    folds.append((train, train_exo, test, test_exo))"
   ]
  },
  {
   "cell_type": "markdown",
   "id": "90102f27-77e3-4997-a7d6-8c547054729f",
   "metadata": {},
   "source": [
    "<a href=\"#toc\"><p style=\"text-align:right;\" href=\"#toc\">Back To Table Of Contents</p></a> \n",
    "<a id = \"2.2.\"></a>\n",
    "# 2.2. ARIMA Based Models"
   ]
  },
  {
   "cell_type": "markdown",
   "id": "f230321c-77ce-4ba5-86c2-91a589f05d64",
   "metadata": {},
   "source": [
    "Before apply an ARIMA model we have to calculate a grid of possible values of (p, q, d) to the model. In order to do that we would have to study each timeseries (per store and product) to infer a possible grid, due to the time consuming about this analysis I propose to clusterize timeseries to extract one representative timeseries on each cluster and analyse that one as representation of the cluster in order to reduce time of analysing."
   ]
  },
  {
   "cell_type": "code",
   "execution_count": 49,
   "id": "30979a79-d998-488c-ad3a-b2e8eb47b825",
   "metadata": {},
   "outputs": [],
   "source": [
    "stores = df[\"almacen\"].unique()\n",
    "products = df[\"producto\"].unique()"
   ]
  },
  {
   "cell_type": "code",
   "execution_count": 50,
   "id": "94aea6ea-187b-4853-86ce-b3b1c0d75a1d",
   "metadata": {},
   "outputs": [],
   "source": [
    "# Create an array of shape (number_of_ts, size_of_ts)\n",
    "my_series = []\n",
    "for store in stores:\n",
    "    for product in products:\n",
    "        aux = df[(df[\"almacen\"] == store) & (df[\"producto\"] == product)]\n",
    "        if not aux.empty:\n",
    "            aux = aux[[\"last_weekday\", \"unidades\"]]\n",
    "            aux = aux.set_index(\"last_weekday\")\n",
    "            aux = aux.rename(columns = {\"unidades\": f\"{store}_{product}\"})\n",
    "            my_series.append(aux[f\"{store}_{product}\"])\n",
    "            \n",
    "data = pd.concat(my_series, axis=1)\n",
    "data.fillna(0, inplace=True)\n",
    "data = data.T.values\n",
    "\n",
    "# Apply a min max scaler over data\n",
    "min_max = MinMaxScaler()\n",
    "data_scaler = min_max.fit_transform(data)"
   ]
  },
  {
   "cell_type": "code",
   "execution_count": 47,
   "id": "92e0b20f-6556-4cc2-bc19-9d8bab1b7628",
   "metadata": {},
   "outputs": [
    {
     "name": "stdout",
     "output_type": "stream",
     "text": [
      "Inertia calculated for 2 clusters.\n",
      "Inertia calculated for 3 clusters.\n",
      "Inertia calculated for 4 clusters.\n",
      "Inertia calculated for 5 clusters.\n",
      "Inertia calculated for 6 clusters.\n"
     ]
    },
    {
     "data": {
      "image/png": "[encoded data removed]",
      "text/plain": [
       "<Figure size 432x288 with 1 Axes>"
      ]
     },
     "metadata": {
      "needs_background": "light"
     },
     "output_type": "display_data"
    }
   ],
   "source": [
    "# Calculate number of cluster based on 'elbow method'\n",
    "inertia = []\n",
    "for n in range(2, 7):\n",
    "    ts = TimeSeriesKMeans(n_clusters=n, metric=\"dtw\")\n",
    "    ts.fit(data_scaler)\n",
    "    inertia.append(ts.inertia_)\n",
    "    print(f\"Inertia calculated for {n} clusters.\")\n",
    "\n",
    "plt.plot(range(2, 7), inertia);"
   ]
  },
  {
   "cell_type": "code",
   "execution_count": 51,
   "id": "27a3221e-12d1-4499-835b-bd6ad67424b7",
   "metadata": {},
   "outputs": [],
   "source": [
    "n_clusters = 3\n",
    "ts_kmeans = TimeSeriesKMeans(n_clusters=n_clusters, metric=\"dtw\")\n",
    "labels = ts_kmeans.fit_predict(data_scaler)"
   ]
  },
  {
   "cell_type": "code",
   "execution_count": 52,
   "id": "56a69ca1-b476-4a95-a005-a48d736aa5a5",
   "metadata": {},
   "outputs": [
    {
     "data": {
      "text/plain": [
       "Counter({2: 39, 0: 1031, 1: 66})"
      ]
     },
     "execution_count": 52,
     "metadata": {},
     "output_type": "execute_result"
    }
   ],
   "source": [
    "elements_count = collections.Counter(labels)\n",
    "elements_count"
   ]
  },
  {
   "cell_type": "code",
   "execution_count": 53,
   "id": "9d03829d-5b16-4f2f-b413-35308266c02c",
   "metadata": {},
   "outputs": [
    {
     "data": {
      "image/png": "[encoded data removed]",
      "text/plain": [
       "<Figure size 432x288 with 1 Axes>"
      ]
     },
     "metadata": {
      "needs_background": "light"
     },
     "output_type": "display_data"
    }
   ],
   "source": [
    "# An example of groupping\n",
    "for i in range(data.shape[0]):\n",
    "    if labels[i] == 1:\n",
    "        plt.plot(data[i, :], alpha=1, linewidth=.5)"
   ]
  },
  {
   "cell_type": "markdown",
   "id": "63263f17-d106-4660-934b-5da30713b95a",
   "metadata": {},
   "source": [
    "To study the timeseries let's extract the most representative by calculate the distance to the centroid"
   ]
  },
  {
   "cell_type": "code",
   "execution_count": 54,
   "id": "41aaf1a0-66c0-4128-93bb-60e348886c1f",
   "metadata": {},
   "outputs": [],
   "source": [
    "label0 = []\n",
    "label1 = []\n",
    "label2 = []\n",
    "\n",
    "for i in range(data.shape[0]):\n",
    "    zeros = data[i, :]\n",
    "    if (zeros == 0).sum() / zeros.shape[0] >= .2:\n",
    "        continue\n",
    "        \n",
    "    if labels[i] == 0:\n",
    "        cluster_center = ts_kmeans.cluster_centers_[0]\n",
    "        values = data_scaler[i, :].reshape(-1, 1)\n",
    "        label0.append((i, dtw(values, cluster_center)))\n",
    "    elif labels[i] == 1:\n",
    "        cluster_center = ts_kmeans.cluster_centers_[1]\n",
    "        values = data_scaler[i, :].reshape(-1, 1)\n",
    "        label1.append((i, dtw(values, cluster_center)))\n",
    "    else:\n",
    "        cluster_center = ts_kmeans.cluster_centers_[2]\n",
    "        values = data_scaler[i, :].reshape(-1, 1)\n",
    "        label2.append((i, dtw(values, cluster_center)))\n",
    "\n",
    "label0.sort(key=lambda _: _[1])\n",
    "label1.sort(key=lambda _: _[1])\n",
    "label2.sort(key=lambda _: _[1])"
   ]
  },
  {
   "cell_type": "code",
   "execution_count": 55,
   "id": "8d042aaa-c328-4047-ad68-02597507f938",
   "metadata": {},
   "outputs": [
    {
     "data": {
      "image/png": "[encoded data removed]",
      "text/plain": [
       "<Figure size 432x288 with 1 Axes>"
      ]
     },
     "metadata": {
      "needs_background": "light"
     },
     "output_type": "display_data"
    },
    {
     "data": {
      "image/png": "[encoded data removed]",
      "text/plain": [
       "<Figure size 432x288 with 1 Axes>"
      ]
     },
     "metadata": {
      "needs_background": "light"
     },
     "output_type": "display_data"
    },
    {
     "data": {
      "image/png": "[encoded data removed]",
      "text/plain": [
       "<Figure size 432x288 with 1 Axes>"
      ]
     },
     "metadata": {
      "needs_background": "light"
     },
     "output_type": "display_data"
    }
   ],
   "source": [
    "choosen_idx = {label0[0][0]: \"0\", label1[0][0]: \"1\", label2[0][0]: \"2\"}\n",
    "ts = {\"last_weekday\": df[\"last_weekday\"].unique()}\n",
    "for i in range(data.shape[0]):\n",
    "    if i in choosen_idx.keys():\n",
    "        ts = {**ts, **{f\"Cluster {choosen_idx.get(i)}\": data[i, :]}}\n",
    "        plt.figure()\n",
    "        plt.plot(df[\"last_weekday\"].unique(), data[i, :])\n",
    "        plt.title(f\"Cluster {choosen_idx.get(i)}\")"
   ]
  },
  {
   "cell_type": "code",
   "execution_count": 56,
   "id": "a9444396-425b-48c1-b790-18d60814cd02",
   "metadata": {},
   "outputs": [
    {
     "data": {
      "text/html": [
       "<div>\n",
       "<style scoped>\n",
       "    .dataframe tbody tr th:only-of-type {\n",
       "        vertical-align: middle;\n",
       "    }\n",
       "\n",
       "    .dataframe tbody tr th {\n",
       "        vertical-align: top;\n",
       "    }\n",
       "\n",
       "    .dataframe thead th {\n",
       "        text-align: right;\n",
       "    }\n",
       "</style>\n",
       "<table border=\"1\" class=\"dataframe\">\n",
       "  <thead>\n",
       "    <tr style=\"text-align: right;\">\n",
       "      <th></th>\n",
       "      <th>Cluster 1</th>\n",
       "      <th>Cluster 2</th>\n",
       "      <th>Cluster 0</th>\n",
       "    </tr>\n",
       "    <tr>\n",
       "      <th>last_weekday</th>\n",
       "      <th></th>\n",
       "      <th></th>\n",
       "      <th></th>\n",
       "    </tr>\n",
       "  </thead>\n",
       "  <tbody>\n",
       "    <tr>\n",
       "      <th>2017-01-08</th>\n",
       "      <td>0.0</td>\n",
       "      <td>0.0</td>\n",
       "      <td>0.0</td>\n",
       "    </tr>\n",
       "    <tr>\n",
       "      <th>2017-01-15</th>\n",
       "      <td>0.0</td>\n",
       "      <td>0.0</td>\n",
       "      <td>0.0</td>\n",
       "    </tr>\n",
       "    <tr>\n",
       "      <th>2017-01-22</th>\n",
       "      <td>0.0</td>\n",
       "      <td>0.0</td>\n",
       "      <td>0.0</td>\n",
       "    </tr>\n",
       "    <tr>\n",
       "      <th>2017-01-29</th>\n",
       "      <td>0.0</td>\n",
       "      <td>0.0</td>\n",
       "      <td>0.0</td>\n",
       "    </tr>\n",
       "    <tr>\n",
       "      <th>2017-02-05</th>\n",
       "      <td>0.0</td>\n",
       "      <td>0.0</td>\n",
       "      <td>0.0</td>\n",
       "    </tr>\n",
       "  </tbody>\n",
       "</table>\n",
       "</div>"
      ],
      "text/plain": [
       "              Cluster 1  Cluster 2  Cluster 0\n",
       "last_weekday                                 \n",
       "2017-01-08          0.0        0.0        0.0\n",
       "2017-01-15          0.0        0.0        0.0\n",
       "2017-01-22          0.0        0.0        0.0\n",
       "2017-01-29          0.0        0.0        0.0\n",
       "2017-02-05          0.0        0.0        0.0"
      ]
     },
     "execution_count": 56,
     "metadata": {},
     "output_type": "execute_result"
    }
   ],
   "source": [
    "df_clusters = pd.DataFrame(ts)\n",
    "df_clusters.set_index(\"last_weekday\", inplace=True)\n",
    "df_clusters.head(5)"
   ]
  },
  {
   "cell_type": "code",
   "execution_count": 57,
   "id": "70e19ee2-ee23-4e53-9cc9-cdffae37a41c",
   "metadata": {},
   "outputs": [
    {
     "data": {
      "image/png": "[encoded data removed]",
      "text/plain": [
       "<Figure size 432x288 with 4 Axes>"
      ]
     },
     "metadata": {
      "needs_background": "light"
     },
     "output_type": "display_data"
    }
   ],
   "source": [
    "add = seasonal_decompose(df_clusters['Cluster 0'], model='additive', extrapolate_trend='freq')\n",
    "add.plot();"
   ]
  },
  {
   "cell_type": "code",
   "execution_count": 58,
   "id": "9ac586ed-297b-450b-8669-711bcd02be12",
   "metadata": {},
   "outputs": [
    {
     "data": {
      "image/png": "[encoded data removed]",
      "text/plain": [
       "<Figure size 432x288 with 1 Axes>"
      ]
     },
     "metadata": {
      "needs_background": "light"
     },
     "output_type": "display_data"
    }
   ],
   "source": [
    "plot_acf(df_clusters[\"Cluster 0\"]);"
   ]
  },
  {
   "cell_type": "code",
   "execution_count": 59,
   "id": "e876291e-9e06-4559-b707-6ceac1888cc7",
   "metadata": {},
   "outputs": [
    {
     "data": {
      "image/png": "[encoded data removed]",
      "text/plain": [
       "<Figure size 432x288 with 1 Axes>"
      ]
     },
     "metadata": {
      "needs_background": "light"
     },
     "output_type": "display_data"
    }
   ],
   "source": [
    "plot_pacf(df_clusters[\"Cluster 0\"]);"
   ]
  },
  {
   "cell_type": "code",
   "execution_count": 60,
   "id": "7a4d0f60-8dcb-49a1-a4c1-026ca5e14a33",
   "metadata": {},
   "outputs": [
    {
     "data": {
      "image/png": "[encoded data removed]",
      "text/plain": [
       "<Figure size 432x288 with 4 Axes>"
      ]
     },
     "metadata": {
      "needs_background": "light"
     },
     "output_type": "display_data"
    }
   ],
   "source": [
    "add = seasonal_decompose(df_clusters['Cluster 1'], model='additive', extrapolate_trend='freq')\n",
    "add.plot();"
   ]
  },
  {
   "cell_type": "code",
   "execution_count": 61,
   "id": "f9a65c73-7b86-4893-aeaf-157cb530f884",
   "metadata": {},
   "outputs": [
    {
     "data": {
      "image/png": "[encoded data removed]",
      "text/plain": [
       "<Figure size 432x288 with 1 Axes>"
      ]
     },
     "metadata": {
      "needs_background": "light"
     },
     "output_type": "display_data"
    }
   ],
   "source": [
    "plot_acf(df_clusters[\"Cluster 1\"]);"
   ]
  },
  {
   "cell_type": "code",
   "execution_count": 62,
   "id": "1ce07f6d-88d3-49c2-ac23-4d066e3ccfef",
   "metadata": {},
   "outputs": [
    {
     "data": {
      "image/png": "[encoded data removed]",
      "text/plain": [
       "<Figure size 432x288 with 1 Axes>"
      ]
     },
     "metadata": {
      "needs_background": "light"
     },
     "output_type": "display_data"
    }
   ],
   "source": [
    "plot_pacf(df_clusters[\"Cluster 1\"]);"
   ]
  },
  {
   "cell_type": "code",
   "execution_count": 63,
   "id": "ade2b658-58ec-4534-a96c-294bae73c804",
   "metadata": {},
   "outputs": [
    {
     "data": {
      "image/png": "[encoded data removed]",
      "text/plain": [
       "<Figure size 432x288 with 4 Axes>"
      ]
     },
     "metadata": {
      "needs_background": "light"
     },
     "output_type": "display_data"
    }
   ],
   "source": [
    "add = seasonal_decompose(df_clusters['Cluster 2'], model='additive', extrapolate_trend='freq')\n",
    "add.plot();"
   ]
  },
  {
   "cell_type": "code",
   "execution_count": 64,
   "id": "8ba8cb1f-357c-46e0-b8b8-5f34bf5f7548",
   "metadata": {},
   "outputs": [
    {
     "data": {
      "image/png": "[encoded data removed]",
      "text/plain": [
       "<Figure size 432x288 with 1 Axes>"
      ]
     },
     "metadata": {
      "needs_background": "light"
     },
     "output_type": "display_data"
    }
   ],
   "source": [
    "plot_acf(df_clusters[\"Cluster 2\"]);"
   ]
  },
  {
   "cell_type": "code",
   "execution_count": 65,
   "id": "ed85a6a6-a4c5-45a7-b04c-ae150bd5129d",
   "metadata": {},
   "outputs": [
    {
     "data": {
      "image/png": "[encoded data removed]",
      "text/plain": [
       "<Figure size 432x288 with 1 Axes>"
      ]
     },
     "metadata": {
      "needs_background": "light"
     },
     "output_type": "display_data"
    }
   ],
   "source": [
    "plot_pacf(df_clusters[\"Cluster 2\"]);"
   ]
  },
  {
   "cell_type": "markdown",
   "id": "6d6579d5-9965-4ef4-a680-7f4e6bf53289",
   "metadata": {},
   "source": [
    "From time series analysis of PACF and ACF with seasonality decomposition we can test ARIMA with p = (0, 1, 2, 3, 4, 5), d = (0, 1, 2), q = (0, 1, 2, 3, 4, 5)"
   ]
  },
  {
   "cell_type": "code",
   "execution_count": 66,
   "id": "0c940ccf-1d27-426b-a958-26a1941d159c",
   "metadata": {},
   "outputs": [],
   "source": [
    "max_d = 2\n",
    "max_p = 3\n",
    "max_q = 3\n",
    "\n",
    "option_orders = []\n",
    "for d in list(range(max_d + 1)):\n",
    "    for p in list(range(max_p + 1)):\n",
    "        for q in list(range(max_q + 1)):\n",
    "            option_orders.append((p, d, q))"
   ]
  },
  {
   "cell_type": "code",
   "execution_count": 67,
   "id": "7bb370c7-4e7d-4524-a568-f4e7a4e410b4",
   "metadata": {},
   "outputs": [],
   "source": [
    "train_fold = folds[-1]"
   ]
  },
  {
   "cell_type": "code",
   "execution_count": 65,
   "id": "6ab7f505-fa64-456c-84ad-dd68368a0e97",
   "metadata": {},
   "outputs": [
    {
     "data": {
      "image/png": "[encoded data removed]",
      "text/plain": [
       "<Figure size 432x288 with 1 Axes>"
      ]
     },
     "metadata": {
      "needs_background": "light"
     },
     "output_type": "display_data"
    }
   ],
   "source": [
    "n_cols = []\n",
    "for p in [.1, .2, .3, .4, .5, .6, .7, .8, .9, 1]:\n",
    "    pca = PCA(p)\n",
    "    data_aux = pca.fit_transform(train_fold[1].values)\n",
    "    n_cols.append(data_aux.shape[1]/train_fold[1].values.shape[1])\n",
    "    \n",
    "plt.plot([.1, .2, .3, .4, .5, .6, .7, .8, .9, 1], n_cols);"
   ]
  },
  {
   "cell_type": "code",
   "execution_count": 66,
   "id": "2338af7a-294b-427f-a4e7-25666404d3dd",
   "metadata": {},
   "outputs": [
    {
     "name": "stdout",
     "output_type": "stream",
     "text": [
      "Total of options: 48\n"
     ]
    }
   ],
   "source": [
    "print(f\"Total of options: {len(option_orders)}\")"
   ]
  },
  {
   "cell_type": "code",
   "execution_count": 67,
   "id": "58a04255-59ff-4cf5-af9e-5387fae6cede",
   "metadata": {
    "tags": []
   },
   "outputs": [
    {
     "name": "stdout",
     "output_type": "stream",
     "text": [
      "Option number 0 with params (0, 0, 0)\n",
      "Train time 57.56220841407776\n",
      "Option number 5 with params (1, 0, 1)\n",
      "Train time 363.0731828212738\n",
      "Option number 10 with params (2, 0, 2)\n",
      "Train time 158.0626835823059\n",
      "Option number 15 with params (3, 0, 3)\n",
      "Train time 360.38366651535034\n",
      "Option number 20 with params (1, 1, 0)\n",
      "Train time 106.1400191783905\n",
      "Option number 25 with params (2, 1, 1)\n",
      "Train time 573.8834066390991\n",
      "Option number 30 with params (3, 1, 2)\n",
      "Train time 185.17398762702942\n",
      "Option number 35 with params (0, 2, 3)\n",
      "Train time 482.02192878723145\n",
      "Option number 40 with params (2, 2, 0)\n",
      "Train time 70.7856011390686\n",
      "Option number 45 with params (3, 2, 1)\n",
      "Train time 690.4308180809021\n"
     ]
    }
   ],
   "source": [
    "pca_factor = .9\n",
    "aics = list()\n",
    "pca = PCA(pca_factor)\n",
    "data_aux = pca.fit_transform(train_fold[1].values)\n",
    "for idx, order in enumerate(option_orders):\n",
    "    ti = time.time()\n",
    "    mod = ARIMA(train_fold[0][\"unidades\"].values, exog=data_aux, order=order)\n",
    "    \n",
    "    try:\n",
    "        res = mod.fit()\n",
    "        aics.append([order, res.aic])\n",
    "    except:\n",
    "        aics.append(None)\n",
    "        continue\n",
    "    if idx % 5 == 0:\n",
    "        print(f\"Option number {idx} with params {order}\")\n",
    "        print(f\"Train time {time.time() - ti}\")"
   ]
  },
  {
   "cell_type": "code",
   "execution_count": 68,
   "id": "c424f90f-3a04-42f1-94b4-ce3d68df7821",
   "metadata": {},
   "outputs": [],
   "source": [
    "aics.sort(key=lambda e: e[1])\n",
    "k = 10\n",
    "topk = aics[:k]"
   ]
  },
  {
   "cell_type": "code",
   "execution_count": 69,
   "id": "8e4060b1-be72-4dda-8a41-b5d932761630",
   "metadata": {},
   "outputs": [
    {
     "data": {
      "text/plain": [
       "[[(1, 0, 3), 746236.6922494464],\n",
       " [(1, 0, 2), 746237.1079989339],\n",
       " [(0, 0, 3), 746238.2349826116],\n",
       " [(2, 0, 2), 746238.334342403],\n",
       " [(3, 0, 0), 746239.3738333477],\n",
       " [(3, 0, 2), 746240.0488445924],\n",
       " [(2, 0, 1), 746240.2373371193],\n",
       " [(2, 0, 3), 746240.6270423823],\n",
       " [(3, 0, 1), 746241.2890650298],\n",
       " [(3, 0, 3), 746241.7856699458]]"
      ]
     },
     "execution_count": 69,
     "metadata": {},
     "output_type": "execute_result"
    }
   ],
   "source": [
    "topk"
   ]
  },
  {
   "cell_type": "code",
   "execution_count": 70,
   "id": "e0e11697-3f3f-4cd1-8146-7f65b0b8e70d",
   "metadata": {},
   "outputs": [
    {
     "name": "stdout",
     "output_type": "stream",
     "text": [
      "Finish parameters (1, 0, 3) in 296.96293592453003\n",
      "Finish parameters (1, 0, 2) in 259.50626134872437\n",
      "Finish parameters (0, 0, 3) in 269.4891860485077\n",
      "Finish parameters (2, 0, 2) in 266.7961986064911\n",
      "Finish parameters (3, 0, 0) in 218.5540919303894\n",
      "Finish parameters (3, 0, 2) in 306.9546592235565\n",
      "Finish parameters (2, 0, 1) in 426.4769706726074\n",
      "Finish parameters (2, 0, 3) in 409.9031946659088\n",
      "Finish parameters (3, 0, 1) in 599.5354378223419\n",
      "Finish parameters (3, 0, 3) in 723.5334641933441\n"
     ]
    }
   ],
   "source": [
    "params = {}\n",
    "for order in topk:\n",
    "    ti = time.time()\n",
    "    folds_rmse = []\n",
    "    for kfold in folds:\n",
    "        train = kfold[0]\n",
    "        train_exo = kfold[1]\n",
    "        test = kfold[2]\n",
    "        test_exo = kfold[3]\n",
    "\n",
    "        pca = PCA(pca_factor)\n",
    "        train_exo_reduced = pca.fit_transform(train_exo)\n",
    "        test_exo_reduced = pca.transform(test_exo)\n",
    "\n",
    "        model = ARIMA(train[\"unidades\"].values, exog=train_exo_reduced, order=order[0])\n",
    "        model_fit = model.fit()\n",
    "        forecasting = model_fit.forecast(test_exo_reduced.shape[0], exog=test_exo_reduced)\n",
    "        rmse = np.sqrt(mean_squared_error(test[\"unidades\"].values, forecasting))\n",
    "        folds_rmse.append(rmse)\n",
    "        \n",
    "    mean_folds = np.mean(folds_rmse)\n",
    "    std_folds = np.std(folds_rmse)\n",
    "    \n",
    "    params[str(order[0])] = [mean_folds, std_folds]\n",
    "    print(f\"Finish parameters {order[0]} in {time.time() - ti}\")"
   ]
  },
  {
   "cell_type": "code",
   "execution_count": 71,
   "id": "ddbfb312-16b8-41ed-8c87-9fead533f5e1",
   "metadata": {},
   "outputs": [
    {
     "data": {
      "text/plain": [
       "{'(1, 0, 3)': [8630.02840573501, 435.90241368456407],\n",
       " '(1, 0, 2)': [8630.071697684236, 435.95583542559535],\n",
       " '(0, 0, 3)': [8630.089626275429, 435.9785312338021],\n",
       " '(2, 0, 2)': [8630.040744359489, 435.9184550048784],\n",
       " '(3, 0, 0)': [8629.97819806798, 435.8421957802161],\n",
       " '(3, 0, 2)': [8630.046530279167, 435.921248010795],\n",
       " '(2, 0, 1)': [8629.971292102056, 435.83584988427043],\n",
       " '(2, 0, 3)': [8630.0329936133, 435.90981523592853],\n",
       " '(3, 0, 1)': [8630.013176853497, 435.8830884487636],\n",
       " '(3, 0, 3)': [8630.045539118812, 435.91913520204497]}"
      ]
     },
     "execution_count": 71,
     "metadata": {},
     "output_type": "execute_result"
    }
   ],
   "source": [
    "params"
   ]
  },
  {
   "cell_type": "markdown",
   "id": "6d633b18-0b44-4b6e-bcbb-7349f157b73a",
   "metadata": {},
   "source": [
    "As we can see from the previous cell best model in terms of RMSE is with (2, 0, 1) parameters"
   ]
  },
  {
   "cell_type": "markdown",
   "id": "b18f9601-72c0-4b65-95df-3fd89d0159db",
   "metadata": {},
   "source": [
    "<a href=\"#toc\"><p style=\"text-align:right;\" href=\"#toc\">Back To Table Of Contents</p></a> \n",
    "<a id = \"2.2.1.\"></a>\n",
    "# 2.2.1. Best Model"
   ]
  },
  {
   "cell_type": "code",
   "execution_count": 70,
   "id": "e5f83172-bb30-4001-933b-e298120221ed",
   "metadata": {},
   "outputs": [],
   "source": [
    "arima_train = folds[-1][0]\n",
    "arima_train_exo = folds[-1][1]\n",
    "arima_test = folds[-1][2]\n",
    "arima_test_exo = folds[-1][3]\n",
    "\n",
    "pca = PCA(.9)\n",
    "arima_train_exo_reduced = pca.fit_transform(arima_train_exo)\n",
    "arima_test_exo_reduced = pca.transform(arima_test_exo)\n",
    "\n",
    "arima_model = ARIMA(arima_train[\"unidades\"].values, exog=arima_train_exo_reduced, order=(2, 0, 1))\n",
    "arima_model_fit = arima_model.fit()\n",
    "forecasting = arima_model_fit.forecast(arima_test_exo_reduced.shape[0], exog=arima_test_exo_reduced)\n",
    "arima_test[\"forecasting\"] = forecasting\n",
    "rmse = np.sqrt(mean_squared_error(arima_test[\"unidades\"].values, forecasting))"
   ]
  },
  {
   "cell_type": "code",
   "execution_count": 46,
   "id": "17c89118-40d6-4a7d-b03b-3e1bad7c1970",
   "metadata": {},
   "outputs": [],
   "source": [
    "def f_rmse(item):\n",
    "    \"\"\"Function to apply rmse over a groupby.\"\"\"\n",
    "    return np.sqrt(mean_squared_error(item[\"unidades\"].values, item[\"forecasting\"].values))"
   ]
  },
  {
   "cell_type": "code",
   "execution_count": 71,
   "id": "ad951607-069a-47a5-a459-cac2c93fb6b0",
   "metadata": {},
   "outputs": [
    {
     "data": {
      "text/plain": [
       "last_weekday\n",
       "2020-10-25    7740.426095\n",
       "2020-11-01    7942.219469\n",
       "2020-11-08    7818.611334\n",
       "2020-11-15    8961.285068\n",
       "2020-11-22    9616.323560\n",
       "2020-11-29    8717.671066\n",
       "2020-12-06    8026.329732\n",
       "2020-12-13    7333.498265\n",
       "2020-12-20    7040.766109\n",
       "2020-12-27    7790.008791\n",
       "dtype: float64"
      ]
     },
     "execution_count": 71,
     "metadata": {},
     "output_type": "execute_result"
    }
   ],
   "source": [
    "arima_test.groupby(\"last_weekday\").apply(f_rmse)"
   ]
  },
  {
   "cell_type": "markdown",
   "id": "03dcfeff-ca71-4cd2-acbd-dfc5ecc1bf7d",
   "metadata": {},
   "source": [
    "<a href=\"#toc\"><p style=\"text-align:right;\" href=\"#toc\">Back To Table Of Contents</p></a> \n",
    "<a id = \"2.3.\"></a>\n",
    "# 2.3. ML Based Models"
   ]
  },
  {
   "cell_type": "markdown",
   "id": "63806308-ce63-4f82-bd1a-eb2af56cfd4e",
   "metadata": {},
   "source": [
    "<a href=\"#toc\"><p style=\"text-align:right;\" href=\"#toc\">Back To Table Of Contents</p></a> \n",
    "<a id = \"2.3.1.\"></a>\n",
    "# 2.3.1. ML Data Approach"
   ]
  },
  {
   "cell_type": "code",
   "execution_count": 47,
   "id": "c4fbeac5-d917-4798-ae08-f5c09950898b",
   "metadata": {},
   "outputs": [],
   "source": [
    "def reindex_by_date(df, is_train=True):\n",
    "    \"\"\"Standardize all stores and product with the same date range.\n",
    "    \n",
    "    Parameters\n",
    "    ----------\n",
    "        df pd.DataFrame:\n",
    "            Data to reindex.\n",
    "        \n",
    "        is_train bool:\n",
    "            Parameter to control if the 'df' argument is training data or test. Training by default.\n",
    "    \n",
    "    Returns\n",
    "    -------\n",
    "        pd.DataFrame:\n",
    "            Dataframe reindexed.\n",
    "            \n",
    "    \"\"\"\n",
    "    if is_train:\n",
    "        return df.reindex(weekly_date_range_train, fill_value=0)\n",
    "    else:\n",
    "        return df.reindex(weekly_date_range_test, fill_value=0)"
   ]
  },
  {
   "cell_type": "code",
   "execution_count": 48,
   "id": "b7e07934-2ddc-49a0-b7c1-76ca88a8d50f",
   "metadata": {},
   "outputs": [],
   "source": [
    "# We have to change the data format on the folds by other that can fit to a ML approach\n",
    "new_folds = []\n",
    "for train_fold in folds:\n",
    "    \n",
    "    train = train_fold[0]\n",
    "    test = train_fold[2]\n",
    "    \n",
    "    # Create date range for train and test and reindex data in order to have all stores and products with the same range.\n",
    "    weekly_date_range_train = pd.date_range(train[\"last_weekday\"].min(), train[\"last_weekday\"].max(), freq='W-SUN')\n",
    "    weekly_date_range_test = pd.date_range(test[\"last_weekday\"].min(), test[\"last_weekday\"].max(), freq='W-SUN')\n",
    "    train_aux = train.set_index(\"last_weekday\")\n",
    "    test_aux = test.set_index(\"last_weekday\")\n",
    "    train_aux = train_aux.groupby([\"almacen\", \"producto\"]).apply(reindex_by_date)\n",
    "    test_aux = test_aux.groupby([\"almacen\", \"producto\"]).apply(reindex_by_date, is_train=False)\n",
    "    train_aux = train_aux.drop(axis=1, labels=[\"almacen\", \"producto\"])\n",
    "    test_aux = test_aux.drop(axis=1, labels=[\"almacen\", \"producto\"])\n",
    "    train_aux = train_aux.reset_index()\n",
    "    test_aux = test_aux.reset_index()\n",
    "    train_aux = train_aux.rename(columns={\"level_2\": \"last_weekday\"})\n",
    "    test_aux = test_aux.rename(columns={\"level_2\": \"last_weekday\"})\n",
    "\n",
    "    # In order to apply correctly the lags over the data and avoid to create extra NaN on test set we need to append both of them\n",
    "    # to calculate the lags.\n",
    "    split_date = train_aux[\"last_weekday\"].max()\n",
    "    df_data = pd.concat([train_aux, test_aux])\n",
    "    for nlag in range(1, 13):\n",
    "        exec(f\"df_data['lag{nlag}'] = df_data.groupby(['almacen', 'producto'], as_index=False)['unidades'].shift({nlag})\")\n",
    "        \n",
    "    # Split again the train and test set with lags columns.\n",
    "    train_aux = df_data[df_data[\"last_weekday\"] <= split_date]\n",
    "    test_aux = df_data[df_data[\"last_weekday\"] > split_date]\n",
    "    \n",
    "    # To deal with stores and products we have to apply a OneHotEncoder.\n",
    "    onehot_store = OneHotEncoder(handle_unknown=\"ignore\")\n",
    "    onehot_product = OneHotEncoder(handle_unknown=\"ignore\")\n",
    "    train_exog_store_enc = onehot_store.fit_transform(train_aux[\"almacen\"].values.reshape(-1, 1))\n",
    "    train_exog_product_enc = onehot_product.fit_transform(train_aux[\"producto\"].values.reshape(-1, 1))\n",
    "    test_exog_store_enc = onehot_store.transform(test_aux[\"almacen\"].values.reshape(-1, 1))\n",
    "    test_exog_product_enc = onehot_product.transform(test_aux[\"producto\"].values.reshape(-1, 1))\n",
    "    \n",
    "    # Change data type to np.int8 becase the values are 0 and 1 and this reduce the memory usage.\n",
    "    train_exog_store_enc = pd.DataFrame(data=train_exog_store_enc.toarray(), columns=onehot_store.get_feature_names(), dtype=np.int8)\n",
    "    train_exog_product_enc = pd.DataFrame(data=train_exog_product_enc.toarray(), columns=onehot_product.get_feature_names(), dtype=np.int8)\n",
    "    test_exog_store_enc = pd.DataFrame(data=test_exog_store_enc.toarray(), columns=onehot_store.get_feature_names())\n",
    "    test_exog_product_enc = pd.DataFrame(data=test_exog_product_enc.toarray(), columns=onehot_product.get_feature_names())\n",
    "    train_exog = pd.concat([train_exog_store_enc, train_exog_product_enc], axis=1)\n",
    "    test_exog = pd.concat([test_exog_store_enc, test_exog_product_enc], axis=1)\n",
    "    # Create the new folds with train lags, exog train columns and the same for test.\n",
    "    new_folds.append((train_aux, train_exog, test_aux, test_exog))"
   ]
  },
  {
   "cell_type": "code",
   "execution_count": 49,
   "id": "e9251352-7b2d-4715-8cce-f88c68357acc",
   "metadata": {},
   "outputs": [],
   "source": [
    "# This just join the exog variables with the lags variables.\n",
    "kfolds = []\n",
    "for nfold in new_folds:\n",
    "    train = nfold[0]\n",
    "    train_exog = nfold[1]\n",
    "    test = nfold[2]\n",
    "    test_exog = nfold[3]\n",
    "    train = pd.concat([train, train_exog], axis=1)\n",
    "    test = pd.concat([test, test_exog], axis=1)\n",
    "    train = train.dropna()\n",
    "    test = test.dropna()\n",
    "    \n",
    "    # Create new folds just with train and test variables\n",
    "    kfolds.append((train, test))"
   ]
  },
  {
   "cell_type": "code",
   "execution_count": 50,
   "id": "da5a4324-b9c1-4ccd-8259-36faa6df2fcf",
   "metadata": {},
   "outputs": [
    {
     "data": {
      "text/html": [
       "<div>\n",
       "<style scoped>\n",
       "    .dataframe tbody tr th:only-of-type {\n",
       "        vertical-align: middle;\n",
       "    }\n",
       "\n",
       "    .dataframe tbody tr th {\n",
       "        vertical-align: top;\n",
       "    }\n",
       "\n",
       "    .dataframe thead th {\n",
       "        text-align: right;\n",
       "    }\n",
       "</style>\n",
       "<table border=\"1\" class=\"dataframe\">\n",
       "  <thead>\n",
       "    <tr style=\"text-align: right;\">\n",
       "      <th></th>\n",
       "      <th>almacen</th>\n",
       "      <th>producto</th>\n",
       "      <th>last_weekday</th>\n",
       "      <th>unidades</th>\n",
       "      <th>lag1</th>\n",
       "      <th>lag2</th>\n",
       "      <th>lag3</th>\n",
       "      <th>lag4</th>\n",
       "      <th>lag5</th>\n",
       "      <th>lag6</th>\n",
       "      <th>...</th>\n",
       "      <th>x0_XXNjiie</th>\n",
       "      <th>x0_XXNjjdf</th>\n",
       "      <th>x0_XXNjjeh</th>\n",
       "      <th>x0_XXNjjfc</th>\n",
       "      <th>x0_XXNjjfd</th>\n",
       "      <th>x0_XXNjjff</th>\n",
       "      <th>x0_XXNjjfj</th>\n",
       "      <th>x0_XXNjjgc</th>\n",
       "      <th>x0_XXNjjgd</th>\n",
       "      <th>x0_XXNjjha</th>\n",
       "    </tr>\n",
       "  </thead>\n",
       "  <tbody>\n",
       "    <tr>\n",
       "      <th>12</th>\n",
       "      <td>XXA</td>\n",
       "      <td>XXLjcfd</td>\n",
       "      <td>2017-04-02</td>\n",
       "      <td>0.0</td>\n",
       "      <td>700.0</td>\n",
       "      <td>0.0</td>\n",
       "      <td>0.0</td>\n",
       "      <td>0.0</td>\n",
       "      <td>0.0</td>\n",
       "      <td>0.0</td>\n",
       "      <td>...</td>\n",
       "      <td>0</td>\n",
       "      <td>0</td>\n",
       "      <td>0</td>\n",
       "      <td>0</td>\n",
       "      <td>0</td>\n",
       "      <td>0</td>\n",
       "      <td>0</td>\n",
       "      <td>0</td>\n",
       "      <td>0</td>\n",
       "      <td>0</td>\n",
       "    </tr>\n",
       "    <tr>\n",
       "      <th>13</th>\n",
       "      <td>XXA</td>\n",
       "      <td>XXLjcfd</td>\n",
       "      <td>2017-04-09</td>\n",
       "      <td>2775.0</td>\n",
       "      <td>0.0</td>\n",
       "      <td>700.0</td>\n",
       "      <td>0.0</td>\n",
       "      <td>0.0</td>\n",
       "      <td>0.0</td>\n",
       "      <td>0.0</td>\n",
       "      <td>...</td>\n",
       "      <td>0</td>\n",
       "      <td>0</td>\n",
       "      <td>0</td>\n",
       "      <td>0</td>\n",
       "      <td>0</td>\n",
       "      <td>0</td>\n",
       "      <td>0</td>\n",
       "      <td>0</td>\n",
       "      <td>0</td>\n",
       "      <td>0</td>\n",
       "    </tr>\n",
       "  </tbody>\n",
       "</table>\n",
       "<p>2 rows × 344 columns</p>\n",
       "</div>"
      ],
      "text/plain": [
       "   almacen producto last_weekday  unidades   lag1   lag2  lag3  lag4  lag5  \\\n",
       "12     XXA  XXLjcfd   2017-04-02       0.0  700.0    0.0   0.0   0.0   0.0   \n",
       "13     XXA  XXLjcfd   2017-04-09    2775.0    0.0  700.0   0.0   0.0   0.0   \n",
       "\n",
       "    lag6  ...  x0_XXNjiie  x0_XXNjjdf  x0_XXNjjeh  x0_XXNjjfc  x0_XXNjjfd  \\\n",
       "12   0.0  ...           0           0           0           0           0   \n",
       "13   0.0  ...           0           0           0           0           0   \n",
       "\n",
       "    x0_XXNjjff  x0_XXNjjfj  x0_XXNjjgc  x0_XXNjjgd  x0_XXNjjha  \n",
       "12           0           0           0           0           0  \n",
       "13           0           0           0           0           0  \n",
       "\n",
       "[2 rows x 344 columns]"
      ]
     },
     "execution_count": 50,
     "metadata": {},
     "output_type": "execute_result"
    }
   ],
   "source": [
    "# This is the format for a ML approach\n",
    "kfolds[-1][0].head(2)"
   ]
  },
  {
   "cell_type": "code",
   "execution_count": 51,
   "id": "dcc9dbf2-3854-48cc-b916-e44f780c4526",
   "metadata": {},
   "outputs": [],
   "source": [
    "def modelling(model, X, Y, col_lags, col_dummies, options=1, poly=False):\n",
    "    \"\"\"Function to create a model pipeline and fit.\n",
    "    \n",
    "    This function takes a given model and create a pipeline for the data, there are 6\n",
    "    possible choices to the lags columns: it can use a scaler between MinMaxScaler, RobustScaler\n",
    "    and StandardScaler and then it can generate polynomial features with only interaction\n",
    "    to then choose the 12 top features between lags and polynomial features. For the \n",
    "    dummies columns we apply a PCA keeping the 90% of variability to reduce the size of the data.\n",
    "    \n",
    "    Parameters\n",
    "    ----------\n",
    "        model:\n",
    "            Model to fit.\n",
    "        \n",
    "        X pd.DataFrame:\n",
    "            Train data.\n",
    "        \n",
    "        Y pd.DataFrame: \n",
    "            Target data.\n",
    "        \n",
    "        col_lags list:\n",
    "            Names of the lags columns.\n",
    "            \n",
    "        col_dummies list:\n",
    "            Names of the dummies columns.\n",
    "            \n",
    "        options int:\n",
    "            1 means to apply MinMaxScaler, 2 RobustScaler, 3 StandardScaler.\n",
    "        \n",
    "        poly bool:\n",
    "            True means to apply polynomial features with degree 2 and select 12 best. False not.\n",
    "    \n",
    "    Returns\n",
    "    -------\n",
    "        sklearn.pipeline.Pipeline:\n",
    "            Fitted pipeline with the selected choices.\n",
    "            \n",
    "    \"\"\"\n",
    "    if options == 1:\n",
    "        scaler = MinMaxScaler((0, 10))\n",
    "        option_steps = [(\"scaler_lags\", scaler)]\n",
    "    elif options == 2:\n",
    "        scaler = RobustScaler()\n",
    "        option_steps = [(\"scaler_lags\", scaler)]\n",
    "    elif options == 3:\n",
    "        scaler = StandardScaler()\n",
    "        option_steps = [(\"scaler_lags\", scaler)]\n",
    "    \n",
    "    if poly:\n",
    "        polynomial = PolynomialFeatures(2, interaction_only=True)\n",
    "        option_steps.append((\"poly_lags\", polynomial))\n",
    "        selectkbest = SelectKBest(f_regression, k=12)\n",
    "        option_steps.append((\"selectkbest\", selectkbest))\n",
    "    \n",
    "    pca = PCA(.9)\n",
    "\n",
    "    lags_pipe = Pipeline(steps=option_steps)\n",
    "    \n",
    "    dummies_pipe = Pipeline(steps=[\n",
    "        (\"pca_dummies\", pca)\n",
    "    ])\n",
    "    processor = ColumnTransformer(\n",
    "        transformers=[\n",
    "            (\"lags_pipe\", lags_pipe, col_lags),\n",
    "            (\"dummies_pipe\", dummies_pipe, col_dummies)\n",
    "        ]\n",
    "    )\n",
    "\n",
    "    pipe = Pipeline(steps=[\n",
    "        (\"processor\", processor),\n",
    "        (\"model\", model)\n",
    "    ])\n",
    "    pipe.fit(X, Y)\n",
    "    return pipe\n",
    "\n",
    "def forecast(model, test, exog_cols):\n",
    "    \"\"\"Forecast time steps one by one.\n",
    "    \n",
    "    The proccess of forecasting in a ml approach is to predict next step time\n",
    "    and the use this as a lag for the following steps.\n",
    "    \n",
    "    Parameters\n",
    "    ----------\n",
    "        model sklearn.pipeline.Pipeline:\n",
    "            Fitted pipeline to predict next time step.\n",
    "        \n",
    "        test pd.DataFrame:\n",
    "            Data used to test a model.\n",
    "        \n",
    "        exog_cols list:\n",
    "            columns used as features in the model.\n",
    "    \n",
    "    Returns\n",
    "    -------\n",
    "        pd.DataFrame:\n",
    "            Data with a 'forecasting' column that takes into account the steps time.\n",
    "    \n",
    "    \"\"\"\n",
    "    # Generate data range as steps time to forecast\n",
    "    test_range = test[\"last_weekday\"].unique()\n",
    "    \n",
    "    # Generate a empty list to fill with the lags for the following steps.\n",
    "    lags = []\n",
    "    \n",
    "    # Generate a empty list to fill with the forecasting\n",
    "    forecasted_df = []\n",
    "    \n",
    "    # For loop to predict each step time one by one\n",
    "    for forecasting_step, date in enumerate(test_range):\n",
    "        aux = test[test[\"last_weekday\"] == date]\n",
    "        if forecasting_step != 0:\n",
    "            # In this step we are changing the lags of the following steps time \n",
    "            # with the previous forecasting.\n",
    "            for lag_item in lags[:10]:\n",
    "                aux[col_lags] = aux[col_lags].shift(axis=\"columns\")\n",
    "                aux[f\"lag1\"] = lag_item\n",
    "                \n",
    "        forecasting = model.predict(aux[exog_cols])\n",
    "        \n",
    "        # Insert the forecasting into the lags list at the begining becase at each\n",
    "        # step time lags move one step time.\n",
    "        lags.insert(0, forecasting)\n",
    "        aux[\"forecasting\"] = forecasting\n",
    "        forecasted_df.append(aux)\n",
    "        \n",
    "    return pd.concat(forecasted_df)\n",
    "    \n",
    "def execute_model(model_object, option, is_poly, kfolds, returns=False):\n",
    "    \"\"\"Function to execute automatically a cross validation over the folds.\n",
    "    \n",
    "    Parameters\n",
    "    ----------\n",
    "        model_object:\n",
    "            Choosen model to fit.\n",
    "        \n",
    "        option int:\n",
    "            1 means to apply MinMaxScaler, 2 RobustScaler, 3 StandardScaler.\n",
    "        \n",
    "        is_poly bool:\n",
    "            True means to apply polynomial features with degree 2 and select 12 best. False not.\n",
    "        \n",
    "        kfolds list:\n",
    "            Folds to apply cross validation.\n",
    "        \n",
    "        returns bool:\n",
    "            True means to return the model.\n",
    "    \n",
    "    Returns\n",
    "    -------\n",
    "        dict:\n",
    "            dictionary with model name as a key and as a value a list with the mean, std\n",
    "            of the rmse one each step time across folds, mean and std on train step \n",
    "            across folds and mean and std of one step time test across folds.\n",
    "    \n",
    "    \"\"\"\n",
    "    train_rmse = []\n",
    "    test_rmse = []\n",
    "    rmse = []\n",
    "    for fold in kfolds:\n",
    "        train = fold[0]\n",
    "        test = fold[1]\n",
    "\n",
    "        col_stores = [f\"x0_{store}\" for store in train[\"almacen\"].unique()]\n",
    "        col_products = [f\"x0_{product}\" for product in train[\"producto\"].unique()]\n",
    "\n",
    "        mdl = modelling(model_object, train[col_lags + col_stores + col_products], train[col_target], \n",
    "                        col_lags, col_stores + col_products, options=option, poly=is_poly)\n",
    "        one_step_fcast_train = mdl.predict(train[col_lags + col_stores + col_products])\n",
    "        one_step_fcast_test = mdl.predict(test[col_lags + col_stores + col_products])\n",
    "        \n",
    "        train_rmse.append(np.sqrt(mean_squared_error(train[col_target].values, one_step_fcast_train)))\n",
    "        test_rmse.append(np.sqrt(mean_squared_error(test[col_target].values, one_step_fcast_test)))\n",
    "\n",
    "        fcast = forecast(mdl, test, col_lags + col_stores + col_products)\n",
    "\n",
    "        rmse.append(np.sqrt(mean_squared_error(fcast[col_target].values, fcast[\"forecasting\"].values)))\n",
    "        \n",
    "    return {f\"{model_object.__str__()} {option} {is_poly}\": [np.mean(rmse), np.std(rmse),\n",
    "                                                             np.mean(train_rmse), np.std(train_rmse),\n",
    "                                                             np.mean(test_rmse), np.std(test_rmse),\n",
    "                                                             fcast if returns else None,\n",
    "                                                             mdl if returns else None]}"
   ]
  },
  {
   "cell_type": "code",
   "execution_count": 52,
   "id": "8404adfb-733b-41b9-9bcd-3c8998e9b8c5",
   "metadata": {},
   "outputs": [],
   "source": [
    "col_target = [\"unidades\"]\n",
    "col_lags = [f\"lag{n}\" for n in range(1, 13)]"
   ]
  },
  {
   "cell_type": "code",
   "execution_count": null,
   "id": "e3aae3ea-2939-47e9-a01e-ad1517653a19",
   "metadata": {},
   "outputs": [],
   "source": [
    "models = [\n",
    "    Lasso(),\n",
    "    Ridge(),\n",
    "    KNeighborsRegressor(n_jobs=-1),\n",
    "    RandomForestRegressor(n_estimators=50, n_jobs=-1),\n",
    "    LGBMRegressor(n_estimators=50, n_jobs=-1),\n",
    "    LinearRegression(n_jobs=-1)\n",
    "]"
   ]
  },
  {
   "cell_type": "code",
   "execution_count": null,
   "id": "6af329c1-75f2-420b-92e1-e8b180a59416",
   "metadata": {},
   "outputs": [],
   "source": [
    "summary = {}\n",
    "for option in [1, 2, 3]:\n",
    "    for pol in [True, False]:\n",
    "        for model in models:\n",
    "            ti = time.time()\n",
    "            summary = {**summary, **execute_model(model, option, pol, kfolds)}\n",
    "            print(\"#\"*10)\n",
    "            print(f\"{model.__str__()} in time {time.time() - ti}\")"
   ]
  },
  {
   "cell_type": "code",
   "execution_count": null,
   "id": "edb5a1b4-8084-4963-b1b0-52f90653d4f9",
   "metadata": {},
   "outputs": [],
   "source": [
    "sorted(summary.items(), key=lambda item: item[1][0])"
   ]
  },
  {
   "cell_type": "markdown",
   "id": "29403fac-9959-418a-b25d-0a7d261ad399",
   "metadata": {},
   "source": [
    "<a href=\"#toc\"><p style=\"text-align:right;\" href=\"#toc\">Back To Table Of Contents</p></a> \n",
    "<a id = \"2.3.2.\"></a>\n",
    "# 2.3.2. Best Model"
   ]
  },
  {
   "cell_type": "markdown",
   "id": "fce7852a-6791-4bad-9da6-c080339f9dea",
   "metadata": {},
   "source": [
    "Let's try to improve the top 3 models by searching the hyperparameters (LGBMRegressor, Ridge, KNN)"
   ]
  },
  {
   "cell_type": "code",
   "execution_count": 57,
   "id": "6c23f83a-556a-4f7d-b6b2-5a96827bb941",
   "metadata": {},
   "outputs": [],
   "source": [
    "models = [\n",
    "    (Ridge(alpha=1), 1, True),\n",
    "    (Ridge(alpha=.1), 1, True),\n",
    "    (Ridge(alpha=.01), 1, True),\n",
    "    \n",
    "    (KNeighborsRegressor(n_neighbors=5, weights=\"uniform\", p=2, n_jobs=-1), 2, True),\n",
    "    (KNeighborsRegressor(n_neighbors=5, weights=\"distance\", p=2, n_jobs=-1), 2, True),\n",
    "    (KNeighborsRegressor(n_neighbors=10, weights=\"uniform\", p=2, n_jobs=-1), 2, True),\n",
    "    (KNeighborsRegressor(n_neighbors=10, weights=\"distance\", p=2, n_jobs=-1), 2, True),\n",
    "    (KNeighborsRegressor(n_neighbors=5, weights=\"uniform\", p=1, n_jobs=-1), 2, True),\n",
    "    (KNeighborsRegressor(n_neighbors=5, weights=\"distance\", p=1, n_jobs=-1), 2, True),\n",
    "    (KNeighborsRegressor(n_neighbors=10, weights=\"uniform\", p=1, n_jobs=-1), 2, True),\n",
    "    (KNeighborsRegressor(n_neighbors=10, weights=\"distance\", p=1, n_jobs=-1), 2, True),\n",
    "    \n",
    "    (LGBMRegressor(n_estimators=10, max_depth=-1, n_jobs=-1), 1, True),\n",
    "    (LGBMRegressor(n_estimators=10, max_depth=100, n_jobs=-1), 1, True),\n",
    "    (LGBMRegressor(n_estimators=10, max_depth=10, n_jobs=-1), 1, True),\n",
    "    (LGBMRegressor(n_estimators=50, max_depth=-1, n_jobs=-1), 1, True),\n",
    "    (LGBMRegressor(n_estimators=50, max_depth=100, n_jobs=-1), 1, True),\n",
    "    (LGBMRegressor(n_estimators=50, max_depth=10, n_jobs=-1), 1, True),\n",
    "    (LGBMRegressor(n_estimators=100, max_depth=-1, n_jobs=-1), 1, True),\n",
    "    (LGBMRegressor(n_estimators=100, max_depth=100, n_jobs=-1), 1, True),\n",
    "    (LGBMRegressor(n_estimators=100, max_depth=10, n_jobs=-1), 1, True),\n",
    "]"
   ]
  },
  {
   "cell_type": "code",
   "execution_count": 58,
   "id": "2a07e599-2782-4357-bc8d-fecc529ef127",
   "metadata": {},
   "outputs": [
    {
     "name": "stdout",
     "output_type": "stream",
     "text": [
      "##########\n",
      "(Ridge(alpha=1), 1, True) in time 15.741120338439941\n",
      "##########\n",
      "(Ridge(alpha=0.1), 1, True) in time 15.68693733215332\n",
      "##########\n",
      "(Ridge(alpha=0.01), 1, True) in time 16.202861070632935\n",
      "##########\n",
      "(LGBMRegressor(n_estimators=10), 1, True) in time 18.34155535697937\n",
      "##########\n",
      "(LGBMRegressor(max_depth=100, n_estimators=10), 1, True) in time 18.412397861480713\n",
      "##########\n",
      "(LGBMRegressor(max_depth=10, n_estimators=10), 1, True) in time 18.254605054855347\n",
      "##########\n",
      "(LGBMRegressor(n_estimators=50), 1, True) in time 20.46045160293579\n",
      "##########\n",
      "(LGBMRegressor(max_depth=100, n_estimators=50), 1, True) in time 20.290299654006958\n",
      "##########\n",
      "(LGBMRegressor(max_depth=10, n_estimators=50), 1, True) in time 20.523415327072144\n",
      "##########\n",
      "(LGBMRegressor(), 1, True) in time 21.470739126205444\n",
      "##########\n",
      "(LGBMRegressor(max_depth=100), 1, True) in time 21.933034896850586\n",
      "##########\n",
      "(LGBMRegressor(max_depth=10), 1, True) in time 23.038252115249634\n"
     ]
    }
   ],
   "source": [
    "summary = {}\n",
    "for model in models:\n",
    "    ti = time.time()\n",
    "    summary = {**summary, **execute_model(model[0], model[1], model[2], [kfolds[-1]])}\n",
    "    print(\"#\"*10)\n",
    "    print(f\"{model.__str__()} in time {time.time() - ti}\")"
   ]
  },
  {
   "cell_type": "code",
   "execution_count": 59,
   "id": "94640e3a-d412-4d2c-acb1-7e7d8f1187ef",
   "metadata": {},
   "outputs": [
    {
     "data": {
      "text/plain": [
       "[('LGBMRegressor(max_depth=10) 1 True',\n",
       "  [3780.102840479635,\n",
       "   0.0,\n",
       "   2371.95346433867,\n",
       "   0.0,\n",
       "   4106.581778957843,\n",
       "   0.0,\n",
       "   None,\n",
       "   None]),\n",
       " ('LGBMRegressor(max_depth=10, n_estimators=50) 1 True',\n",
       "  [3790.98850929104,\n",
       "   0.0,\n",
       "   2495.033278355432,\n",
       "   0.0,\n",
       "   4033.2994485489958,\n",
       "   0.0,\n",
       "   None,\n",
       "   None]),\n",
       " ('LGBMRegressor() 1 True',\n",
       "  [3809.0317564432994,\n",
       "   0.0,\n",
       "   2357.4862359312942,\n",
       "   0.0,\n",
       "   4093.178934462813,\n",
       "   0.0,\n",
       "   None,\n",
       "   None]),\n",
       " ('LGBMRegressor(max_depth=100) 1 True',\n",
       "  [3809.0317564432994,\n",
       "   0.0,\n",
       "   2357.4862359312942,\n",
       "   0.0,\n",
       "   4093.178934462813,\n",
       "   0.0,\n",
       "   None,\n",
       "   None]),\n",
       " ('LGBMRegressor(n_estimators=50) 1 True',\n",
       "  [3817.5601962556107,\n",
       "   0.0,\n",
       "   2499.0399831887858,\n",
       "   0.0,\n",
       "   3998.6601462597764,\n",
       "   0.0,\n",
       "   None,\n",
       "   None]),\n",
       " ('LGBMRegressor(max_depth=100, n_estimators=50) 1 True',\n",
       "  [3817.5601962556107,\n",
       "   0.0,\n",
       "   2499.0399831887858,\n",
       "   0.0,\n",
       "   3998.6601462597764,\n",
       "   0.0,\n",
       "   None,\n",
       "   None]),\n",
       " ('Ridge(alpha=1) 1 True',\n",
       "  [3953.6875432150728,\n",
       "   0.0,\n",
       "   2601.6177109273463,\n",
       "   0.0,\n",
       "   4086.0407163804957,\n",
       "   0.0,\n",
       "   None,\n",
       "   None]),\n",
       " ('Ridge(alpha=0.1) 1 True',\n",
       "  [3954.4436638886564,\n",
       "   0.0,\n",
       "   2601.6166738537354,\n",
       "   0.0,\n",
       "   4086.8315672864396,\n",
       "   0.0,\n",
       "   None,\n",
       "   None]),\n",
       " ('Ridge(alpha=0.01) 1 True',\n",
       "  [3954.5195631060524,\n",
       "   0.0,\n",
       "   2601.616663413053,\n",
       "   0.0,\n",
       "   4086.910968009631,\n",
       "   0.0,\n",
       "   None,\n",
       "   None]),\n",
       " ('LGBMRegressor(n_estimators=10) 1 True',\n",
       "  [4101.779666338027,\n",
       "   0.0,\n",
       "   3686.0093630321944,\n",
       "   0.0,\n",
       "   3926.7640606024797,\n",
       "   0.0,\n",
       "   None,\n",
       "   None]),\n",
       " ('LGBMRegressor(max_depth=100, n_estimators=10) 1 True',\n",
       "  [4101.779666338027,\n",
       "   0.0,\n",
       "   3686.0093630321944,\n",
       "   0.0,\n",
       "   3926.7640606024797,\n",
       "   0.0,\n",
       "   None,\n",
       "   None]),\n",
       " ('LGBMRegressor(max_depth=10, n_estimators=10) 1 True',\n",
       "  [4101.779666338027,\n",
       "   0.0,\n",
       "   3686.0093630321944,\n",
       "   0.0,\n",
       "   3926.7640606024797,\n",
       "   0.0,\n",
       "   None,\n",
       "   None])]"
      ]
     },
     "execution_count": 59,
     "metadata": {},
     "output_type": "execute_result"
    }
   ],
   "source": [
    "sorted(summary.items(), key=lambda item: item[1][0])"
   ]
  },
  {
   "cell_type": "markdown",
   "id": "ed4b5a44-9edd-42ef-8480-01accb9e7eec",
   "metadata": {},
   "source": [
    "as we can see from the previous cell best model is 'LGBMRegressor(max_depth=10) 1 True'. "
   ]
  },
  {
   "cell_type": "code",
   "execution_count": 61,
   "id": "1ae219fc-1e71-4cb4-9f2f-aeac535a73fb",
   "metadata": {},
   "outputs": [
    {
     "name": "stdout",
     "output_type": "stream",
     "text": [
      "##########\n",
      "(LGBMRegressor(max_depth=10), 1, True) in time 24.063480138778687\n"
     ]
    }
   ],
   "source": [
    "models = [\n",
    "    (LGBMRegressor(n_estimators=100, max_depth=10, n_jobs=-1), 1, True)\n",
    "]\n",
    "\n",
    "summ = {}\n",
    "for model in models:\n",
    "    ti = time.time()\n",
    "    summ = {**summ, **execute_model(model[0], model[1], model[2], [kfolds[-1]], True)}\n",
    "    print(\"#\"*10)\n",
    "    print(f\"{model.__str__()} in time {time.time() - ti}\")"
   ]
  },
  {
   "cell_type": "code",
   "execution_count": 62,
   "id": "6e7780ec-925e-4869-8f0d-b5507ef90695",
   "metadata": {},
   "outputs": [
    {
     "data": {
      "text/plain": [
       "last_weekday\n",
       "2020-10-25    2770.159698\n",
       "2020-11-01    3282.583349\n",
       "2020-11-08    2474.970586\n",
       "2020-11-15    3731.341656\n",
       "2020-11-22    4700.947269\n",
       "2020-11-29    5143.266306\n",
       "2020-12-06    5615.780348\n",
       "2020-12-13    3056.015593\n",
       "2020-12-20    1873.705199\n",
       "2020-12-27    3384.547501\n",
       "dtype: float64"
      ]
     },
     "execution_count": 62,
     "metadata": {},
     "output_type": "execute_result"
    }
   ],
   "source": [
    "data = summ.get(\"LGBMRegressor(max_depth=10) 1 True\")[-2]\n",
    "data.groupby(\"last_weekday\").apply(f_rmse)"
   ]
  },
  {
   "cell_type": "code",
   "execution_count": 63,
   "id": "468b31bf-4e3e-43e0-a471-7ff2ef2e2e77",
   "metadata": {},
   "outputs": [
    {
     "data": {
      "text/plain": [
       "almacen\n",
       "XXA     2672.127441\n",
       "XXB     1684.407183\n",
       "XXC     5873.154088\n",
       "XXD     3103.329799\n",
       "XXI    15557.847003\n",
       "XXJ      569.153129\n",
       "dtype: float64"
      ]
     },
     "execution_count": 63,
     "metadata": {},
     "output_type": "execute_result"
    }
   ],
   "source": [
    "data.groupby(\"almacen\").apply(f_rmse)"
   ]
  },
  {
   "cell_type": "code",
   "execution_count": 64,
   "id": "1ea6fa07-031b-4cf5-8c0b-07dd3f253d5c",
   "metadata": {},
   "outputs": [
    {
     "data": {
      "text/plain": [
       "producto\n",
       "XXNabdj     73.033430\n",
       "XXNjaff     73.930846\n",
       "XXNjega     75.764572\n",
       "XXNabcj    101.315940\n",
       "XXNjeji    106.176093\n",
       "XXNjied    108.967825\n",
       "XXNjdfj    112.376669\n",
       "XXNaaah    116.600216\n",
       "XXNacie    116.712874\n",
       "XXNajii    117.849785\n",
       "XXNachf    120.297150\n",
       "XXNjege    122.027855\n",
       "XXNajjb    124.892984\n",
       "XXNjahe    127.663065\n",
       "XXNajhj    130.701095\n",
       "XXNjhec    131.299025\n",
       "XXNjafg    134.267967\n",
       "XXNabcd    136.218181\n",
       "XXNjadi    141.700591\n",
       "XXNjbjj    143.653467\n",
       "dtype: float64"
      ]
     },
     "execution_count": 64,
     "metadata": {},
     "output_type": "execute_result"
    }
   ],
   "source": [
    "data.groupby(\"producto\").apply(f_rmse).sort_values().head(20)"
   ]
  },
  {
   "cell_type": "code",
   "execution_count": 65,
   "id": "8239181f-8c47-4d82-adcf-95ad1c6e20a8",
   "metadata": {},
   "outputs": [
    {
     "data": {
      "text/plain": [
       "almacen  producto\n",
       "XXC      XXNjbji     45885.084093\n",
       "         XXNjigf     34431.729425\n",
       "         XXNjigd     17126.754249\n",
       "XXA      XXNacgj     17063.280732\n",
       "         XXNjbji     16128.174861\n",
       "XXI      XXNjiia     15557.847003\n",
       "XXC      XXNjefh     14232.336671\n",
       "XXD      XXNaaeb     12725.540858\n",
       "         XXNjigf     11783.429070\n",
       "         XXNacee     11603.820738\n",
       "         XXNjjgd     10600.211650\n",
       "         XXNacbj     10557.833566\n",
       "         XXNjjdf     10275.985793\n",
       "         XXNaaec     10100.790269\n",
       "XXC      XXNjjff      9782.205718\n",
       "XXB      XXNjefh      9461.267991\n",
       "XXD      XXNjifh      9415.930347\n",
       "         XXNacaf      8438.025311\n",
       "         XXNjhhc      8368.629763\n",
       "         XXNjiie      8210.880548\n",
       "dtype: float64"
      ]
     },
     "execution_count": 65,
     "metadata": {},
     "output_type": "execute_result"
    }
   ],
   "source": [
    "data.groupby([\"almacen\", \"producto\"]).apply(f_rmse).sort_values(ascending=False).head(20)"
   ]
  },
  {
   "cell_type": "code",
   "execution_count": 66,
   "id": "4c82f59c-cbd6-4448-bd83-cf02a764f652",
   "metadata": {},
   "outputs": [
    {
     "data": {
      "image/png": "[encoded data removed]",
      "text/plain": [
       "<Figure size 432x288 with 1 Axes>"
      ]
     },
     "metadata": {
      "needs_background": "light"
     },
     "output_type": "display_data"
    }
   ],
   "source": [
    "data_aux = data[data[\"almacen\"]==\"XXA\"][[\"last_weekday\", \"unidades\", \"forecasting\"]]\n",
    "data_aux = data_aux.groupby(\"last_weekday\")[[\"unidades\", \"forecasting\"]].sum()\n",
    "plt.figure()\n",
    "plt.plot(data_aux[\"unidades\"])\n",
    "plt.plot(data_aux[\"forecasting\"])\n",
    "plt.title(\"Forecasting per Store\")\n",
    "plt.legend([\"unidades\", \"forecasting\"]);"
   ]
  },
  {
   "cell_type": "code",
   "execution_count": 67,
   "id": "334e582f-05f5-4903-814c-280458cd3fad",
   "metadata": {},
   "outputs": [
    {
     "data": {
      "image/png": "[encoded data removed]",
      "text/plain": [
       "<Figure size 432x288 with 1 Axes>"
      ]
     },
     "metadata": {
      "needs_background": "light"
     },
     "output_type": "display_data"
    }
   ],
   "source": [
    "data_aux = data[data[\"producto\"]==\"XXNjiie\"][[\"last_weekday\", \"unidades\", \"forecasting\"]]\n",
    "data_aux = data_aux.groupby(\"last_weekday\")[[\"unidades\", \"forecasting\"]].sum()\n",
    "plt.figure()\n",
    "plt.title(\"Forecasting per Product\")\n",
    "plt.plot(data_aux[\"unidades\"])\n",
    "plt.plot(data_aux[\"forecasting\"])\n",
    "plt.legend([\"unidades\", \"forecasting\"]);"
   ]
  },
  {
   "cell_type": "code",
   "execution_count": 68,
   "id": "6dce3fce-61ba-4325-ada7-dfba3c6e39e1",
   "metadata": {},
   "outputs": [
    {
     "data": {
      "image/png": "[encoded data removed]",
      "text/plain": [
       "<Figure size 432x288 with 1 Axes>"
      ]
     },
     "metadata": {
      "needs_background": "light"
     },
     "output_type": "display_data"
    }
   ],
   "source": [
    "data_aux = data[(data[\"producto\"]==\"XXNjbji\") & (data[\"almacen\"] == \"XXC\")][[\"last_weekday\", \"unidades\", \"forecasting\"]]\n",
    "data_aux = data_aux.groupby(\"last_weekday\")[[\"unidades\", \"forecasting\"]].sum()\n",
    "plt.figure()\n",
    "plt.title(\"Forecasting per Store and Product\")\n",
    "plt.plot(data_aux[\"unidades\"])\n",
    "plt.plot(data_aux[\"forecasting\"])\n",
    "plt.legend([\"unidades\", \"forecasting\"]);"
   ]
  },
  {
   "cell_type": "markdown",
   "id": "40e80280-c261-491d-975d-775a0c9817da",
   "metadata": {},
   "source": [
    "<a href=\"#toc\"><p style=\"text-align:right;\" href=\"#toc\">Back To Table Of Contents</p></a> \n",
    "<a id = \"2.4.\"></a>\n",
    "# 2.4. DL Based Models"
   ]
  },
  {
   "cell_type": "markdown",
   "id": "31a10049-795a-4a53-89f0-fe715f7508a3",
   "metadata": {},
   "source": [
    "The data approach for this models is the same than for the ML approach"
   ]
  },
  {
   "cell_type": "code",
   "execution_count": 120,
   "id": "fbe1b8c2-a07c-4a11-8b89-58d7deacd89e",
   "metadata": {},
   "outputs": [],
   "source": [
    "def dnn_model(X, Y):\n",
    "    \"\"\"Densely connected neural network.\n",
    "    \n",
    "    Parameters\n",
    "    ----------\n",
    "        X np.array:\n",
    "            Train data.\n",
    "        \n",
    "        Y np.array:\n",
    "            Target train data.\n",
    "            \n",
    "    Returns\n",
    "    -------\n",
    "        tuple:\n",
    "            first items is the model fitted and sencond item is the history across epochs.\n",
    "    \n",
    "    \"\"\"\n",
    "    X = np.asarray(X[:, 1:]).astype('float64')\n",
    "    dnn = Sequential([\n",
    "    Dense(16, activation=\"relu\"),\n",
    "    Dense(32, activation=\"relu\"),\n",
    "    Dense(16, activation=\"relu\"),\n",
    "    Dense(8, activation=\"relu\"),\n",
    "    Dropout(.2),\n",
    "    Dense(1, activation=\"relu\")\n",
    "    ])\n",
    "    dnn.compile(loss='mse', optimizer='adam')\n",
    "    hist = dnn.fit(X, Y, epochs=10, batch_size=32)\n",
    "    return dnn, hist\n",
    "\n",
    "def cnn_model(X, Y):\n",
    "    \"\"\"Convolutional neural network.\n",
    "    \n",
    "    Parameters\n",
    "    ----------\n",
    "        X np.array:\n",
    "            Train data.\n",
    "        \n",
    "        Y np.array:\n",
    "            Target train data.\n",
    "            \n",
    "    Returns\n",
    "    -------\n",
    "        tuple:\n",
    "            first items is the model fitted and sencond item is the history across epochs.\n",
    "    \n",
    "    \"\"\"\n",
    "    X = np.asarray(X[:, 1:]).astype('float64')\n",
    "    cnn = Sequential([\n",
    "        Conv1D(32, kernel_size=4),\n",
    "        BatchNormalization(),\n",
    "        Activation(\"relu\"),\n",
    "        MaxPooling1D(pool_size=2),\n",
    "        Conv1D(16, kernel_size=4),\n",
    "        BatchNormalization(),\n",
    "        Activation(\"relu\"),\n",
    "        MaxPooling1D(pool_size=2),\n",
    "        Conv1D(8, kernel_size=4),\n",
    "        BatchNormalization(),\n",
    "        Activation(\"relu\"),\n",
    "        MaxPooling1D(pool_size=2),\n",
    "        Flatten(),\n",
    "        Dense(16, activation=\"relu\"),\n",
    "        Dense(1, activation=\"relu\")\n",
    "    ])\n",
    "    cnn.compile(loss='mse', optimizer='adam')\n",
    "    hist = cnn.fit(X, Y, epochs=10, batch_size=32)\n",
    "    return cnn, hist\n",
    "\n",
    "def preprocessing_data(train, test, model=\"dnn\"):\n",
    "    \"\"\"Function to prepare the data to train.\n",
    "    \n",
    "    Parameters\n",
    "    ----------\n",
    "        train pd.DataFrame:\n",
    "            Data to train.\n",
    "            \n",
    "        test pd.DataFrame:\n",
    "            Data to test.\n",
    "        \n",
    "        model str:\n",
    "            Modelo to implement the process. Available only 'dnn' or 'cnn'.\n",
    "            \n",
    "    Returns\n",
    "    -------\n",
    "        tuple:\n",
    "            Tuple with 4 items in this order, features train, target train, \n",
    "            features test, target test.\n",
    "    \n",
    "    \"\"\"\n",
    "    col_stores = [f\"x0_{store}\" for store in train[\"almacen\"].unique()]\n",
    "    col_products = [f\"x0_{product}\" for product in train[\"producto\"].unique()]\n",
    "    col_lags = [f\"lag{n}\" for n in range(1, 13)]\n",
    "    \n",
    "    # Apply a PCA over dummie columns and a MinMaxScaler over lag data for train and test.\n",
    "    pca = PCA(.9)\n",
    "    mm = MinMaxScaler((0, 1))\n",
    "    X_pca = pca.fit_transform(train[col_stores + col_products])\n",
    "    X_test_pca = pca.transform(test[col_stores + col_products])\n",
    "    X_lags = mm.fit_transform(train[col_lags])\n",
    "    X_test_lags = mm.transform(test[col_lags])\n",
    "    X_train = np.concatenate((X_lags, X_pca), axis=1)\n",
    "    X_test = np.concatenate((X_test_lags, X_test_pca), axis=1)\n",
    "    Y_train = train[[\"unidades\"]].values\n",
    "    Y_test = test[[\"unidades\"]].values\n",
    "    \n",
    "    # In case we have selected 'cnn' model reshape the data accordingly.\n",
    "    if model == \"cnn\":\n",
    "        # Add date column to filter.\n",
    "        X_train = np.concatenate((train[[\"last_weekday\"]].astype(str).values, X_train), axis=1)\n",
    "        X_test = np.concatenate((test[[\"last_weekday\"]].astype(str).values, X_test), axis=1)\n",
    "        \n",
    "        X_train_shape = X_train.shape\n",
    "        Y_train_shape = Y_train.shape\n",
    "        X_train = X_train.reshape((X_train_shape[0], X_train_shape[1], 1))\n",
    "        Y_train = Y_train.reshape((Y_train_shape[0], Y_train_shape[1], 1))\n",
    "        \n",
    "        X_test_shape = X_test.shape\n",
    "        Y_test_shape = Y_test.shape\n",
    "        X_test = X_test.reshape((X_test_shape[0], X_test_shape[1], 1))\n",
    "        Y_test = Y_test.reshape((Y_test_shape[0], Y_test_shape[1], 1))\n",
    "        \n",
    "    else:\n",
    "        # Add date column to filter.\n",
    "        X_train = np.concatenate((train[[\"last_weekday\"]].astype(str).values, X_train), axis=1)\n",
    "        X_test = np.concatenate((test[[\"last_weekday\"]].astype(str).values, X_test), axis=1)\n",
    "    \n",
    "    return X_train, Y_train, X_test, Y_test\n",
    "\n",
    "def dl_forecast(model, test, date_range):\n",
    "    \"\"\"Forecast time steps one by one for de DL approach.\n",
    "    \n",
    "    The proccess of forecasting in a ml approach is to predict next step time\n",
    "    and the use this as a lag for the following steps.\n",
    "    \n",
    "    Parameters\n",
    "    ----------\n",
    "        model:\n",
    "            Fitted pipeline to predict next time step.\n",
    "        \n",
    "        test np.array:\n",
    "            Data used to test a model.\n",
    "        \n",
    "        date_range list:\n",
    "            List of dates to predict next step.\n",
    "    \n",
    "    Returns\n",
    "    -------\n",
    "        tuple(np.array, np.array):\n",
    "            Data with a 'forecasting' column that takes into account the steps time. And \n",
    "            the second item is the forecasting only in one step.\n",
    "    \n",
    "    \"\"\"\n",
    "    # Generate a empty list to fill with the lags for the following steps.\n",
    "    lags = []\n",
    "    \n",
    "    # Generate a empty list to fill with the forecasting\n",
    "    forecasted_array = []\n",
    "    \n",
    "    all_feat = np.asarray(test[:, 1:-1]).astype('float64')\n",
    "    fcast_per_one_step_time = model.predict(all_feat)\n",
    "    \n",
    "    # For loop to predict each step time one by one\n",
    "    for forecasting_step, date in enumerate(date_range):\n",
    "        aux = test[test[:, 0] == date]\n",
    "        if forecasting_step != 0:\n",
    "            # In this step we are changing the lags of the following steps time \n",
    "            # with the previous forecasting.\n",
    "            for lagn, lag_item in enumerate(lags[:10], 1):\n",
    "                aux[:, 1:12] = np.concatenate((lag_item, aux[:, 1:(11)]), axis=1)\n",
    "                #aux[:, lagn] = lag_item.reshape(lag_item.shape[0])                \n",
    "        \n",
    "        feat = np.asarray(aux[:, 1:-1]).astype('float64')\n",
    "        forecasting = model.predict(feat)\n",
    "        \n",
    "        # Insert the forecasting into the lags list at the begining becase at each\n",
    "        # step time lags move one step time.\n",
    "        lags.insert(0, forecasting)\n",
    "        aux = np.concatenate((aux, forecasting), axis=1)\n",
    "        forecasted_array.append(aux)\n",
    "        \n",
    "    return np.concatenate(forecasted_array), fcast_per_one_step_time\n",
    "\n",
    "def execute_dl_models(model=\"dnn\"):\n",
    "    \"\"\"Function to execute available models for the DL approach on each fold.\n",
    "    \n",
    "    Available models are 'dnn' and 'cnn'.\n",
    "    \n",
    "    Parameters\n",
    "    ----------\n",
    "        model str:\n",
    "            model to execute.\n",
    "            \n",
    "    Returns\n",
    "    -------\n",
    "        dict:\n",
    "            dictionary with model name as a key and as a value a list with the mean, std\n",
    "            of the rmse one each step time across folds, mean and std on train step \n",
    "            across folds and mean and std of one step time test across folds.\n",
    "    \n",
    "    \"\"\"\n",
    "    rmse_hist = []\n",
    "    rmse_one = []\n",
    "    rmse = []\n",
    "    for fold in kfolds:\n",
    "        train = fold[0]\n",
    "        test = fold[1]\n",
    "        date_range = [date for date in test[\"last_weekday\"].astype(str).unique()]\n",
    "        \n",
    "        X, Y, x, y = preprocessing_data(train, test, model)\n",
    "        xy = np.concatenate((x, y), axis=1)\n",
    "        \n",
    "        # Choose the model to train.\n",
    "        if model == \"dnn\":\n",
    "            mdl, hist = dnn_model(X, Y)\n",
    "        elif model == \"cnn\":\n",
    "            mdl, hist = cnn_model(X, Y)\n",
    "        \n",
    "        # Forecast values.\n",
    "        fcast, fcast_one_step = dl_forecast(mdl, xy, date_range)\n",
    "        \n",
    "        # Calculate RMSE\n",
    "        df = pd.DataFrame({\"fore\": fcast[:, -1]})\n",
    "        df.replace([np.inf, -np.inf], np.nan, inplace=True)\n",
    "        df.fillna(0, inplace=True)\n",
    "        rmse_hist.append(np.sqrt(hist.history.get(\"loss\")[-1]))\n",
    "        rmse_one.append(np.sqrt(mean_squared_error(y, fcast_one_step)))\n",
    "        rmse.append(np.sqrt(mean_squared_error(fcast[:, -2], df[\"fore\"].values)))\n",
    "    \n",
    "    return {f\"{model}\": [np.mean(rmse), np.std(rmse), \n",
    "                         np.mean(rmse_hist), np.std(rmse_hist),\n",
    "                         np.mean(rmse_one), np.std(rmse_one)]}"
   ]
  },
  {
   "cell_type": "code",
   "execution_count": 121,
   "id": "02aa3fe1-b0d5-4f9b-bec1-8df5c6fc8b84",
   "metadata": {},
   "outputs": [
    {
     "name": "stdout",
     "output_type": "stream",
     "text": [
      "Epoch 1/10\n",
      "6257/6257 [==============================] - 14s 2ms/step - loss: 43590956.0000\n",
      "Epoch 2/10\n",
      "6257/6257 [==============================] - 15s 2ms/step - loss: 26145826.0000\n",
      "Epoch 3/10\n",
      "6257/6257 [==============================] - 13s 2ms/step - loss: 22640262.0000\n",
      "Epoch 4/10\n",
      "6257/6257 [==============================] - 13s 2ms/step - loss: 18408030.0000\n",
      "Epoch 5/10\n",
      "6257/6257 [==============================] - 15s 2ms/step - loss: 15665320.0000\n",
      "Epoch 6/10\n",
      "6257/6257 [==============================] - 15s 2ms/step - loss: 14901750.0000\n",
      "Epoch 7/10\n",
      "6257/6257 [==============================] - 14s 2ms/step - loss: 12817592.0000\n",
      "Epoch 8/10\n",
      "6257/6257 [==============================] - 14s 2ms/step - loss: 12574817.0000\n",
      "Epoch 9/10\n",
      "6257/6257 [==============================] - 13s 2ms/step - loss: 14907082.0000\n",
      "Epoch 10/10\n",
      "6257/6257 [==============================] - 17s 3ms/step - loss: 15319917.0000\n",
      "Epoch 1/10\n",
      "6314/6314 [==============================] - 14s 2ms/step - loss: 40375420.0000\n",
      "Epoch 2/10\n",
      "6314/6314 [==============================] - 15s 2ms/step - loss: 24830396.0000\n",
      "Epoch 3/10\n",
      "6314/6314 [==============================] - 18s 3ms/step - loss: 19380290.0000\n",
      "Epoch 4/10\n",
      "6314/6314 [==============================] - 13s 2ms/step - loss: 16407483.0000\n",
      "Epoch 5/10\n",
      "6314/6314 [==============================] - 14s 2ms/step - loss: 14065273.0000\n",
      "Epoch 6/10\n",
      "6314/6314 [==============================] - 15s 2ms/step - loss: 12076229.0000\n",
      "Epoch 7/10\n",
      "6314/6314 [==============================] - 18s 3ms/step - loss: 10646014.0000\n",
      "Epoch 8/10\n",
      "6314/6314 [==============================] - 15s 2ms/step - loss: 10767573.0000\n",
      "Epoch 9/10\n",
      "6314/6314 [==============================] - 13s 2ms/step - loss: 10511707.0000\n",
      "Epoch 10/10\n",
      "6314/6314 [==============================] - 13s 2ms/step - loss: 9003668.0000\n",
      "Epoch 1/10\n",
      "6371/6371 [==============================] - 16s 2ms/step - loss: 43045260.0000\n",
      "Epoch 2/10\n",
      "6371/6371 [==============================] - 16s 2ms/step - loss: 24788738.0000\n",
      "Epoch 3/10\n",
      "6371/6371 [==============================] - 16s 3ms/step - loss: 19920364.0000\n",
      "Epoch 4/10\n",
      "6371/6371 [==============================] - 17s 3ms/step - loss: 17046228.0000\n",
      "Epoch 5/10\n",
      "6371/6371 [==============================] - 18s 3ms/step - loss: 14150385.0000\n",
      "Epoch 6/10\n",
      "6371/6371 [==============================] - 16s 2ms/step - loss: 12826017.0000\n",
      "Epoch 7/10\n",
      "6371/6371 [==============================] - 16s 2ms/step - loss: 11227769.0000 0s - loss: 1129487\n",
      "Epoch 8/10\n",
      "6371/6371 [==============================] - 17s 3ms/step - loss: 11837648.0000\n",
      "Epoch 9/10\n",
      "6371/6371 [==============================] - 16s 3ms/step - loss: 11341461.0000\n",
      "Epoch 10/10\n",
      "6371/6371 [==============================] - 14s 2ms/step - loss: 10243067.0000\n",
      "Epoch 1/10\n",
      "6412/6412 [==============================] - 15s 2ms/step - loss: 44917580.0000\n",
      "Epoch 2/10\n",
      "6412/6412 [==============================] - 15s 2ms/step - loss: 25898808.0000\n",
      "Epoch 3/10\n",
      "6412/6412 [==============================] - 13s 2ms/step - loss: 21137108.0000\n",
      "Epoch 4/10\n",
      "6412/6412 [==============================] - 14s 2ms/step - loss: 17832986.0000\n",
      "Epoch 5/10\n",
      "6412/6412 [==============================] - 14s 2ms/step - loss: 17384304.0000\n",
      "Epoch 6/10\n",
      "6412/6412 [==============================] - 14s 2ms/step - loss: 13818363.0000\n",
      "Epoch 7/10\n",
      "6412/6412 [==============================] - 14s 2ms/step - loss: 11951270.0000\n",
      "Epoch 8/10\n",
      "6412/6412 [==============================] - 14s 2ms/step - loss: 11458296.0000\n",
      "Epoch 9/10\n",
      "6412/6412 [==============================] - 14s 2ms/step - loss: 10355131.0000\n",
      "Epoch 10/10\n",
      "6412/6412 [==============================] - 15s 2ms/step - loss: 10088553.0000\n",
      "Epoch 1/10\n",
      "6476/6476 [==============================] - 15s 2ms/step - loss: 36202588.0000\n",
      "Epoch 2/10\n",
      "6476/6476 [==============================] - 14s 2ms/step - loss: 19813940.0000\n",
      "Epoch 3/10\n",
      "6476/6476 [==============================] - 16s 2ms/step - loss: 15935448.0000 \n",
      "Epoch 4/10\n",
      "6476/6476 [==============================] - 20s 3ms/step - loss: 13392322.0000\n",
      "Epoch 5/10\n",
      "6476/6476 [==============================] - 15s 2ms/step - loss: 11333982.0000\n",
      "Epoch 6/10\n",
      "6476/6476 [==============================] - 14s 2ms/step - loss: 10365320.0000\n",
      "Epoch 7/10\n",
      "6476/6476 [==============================] - 15s 2ms/step - loss: 10027999.0000\n",
      "Epoch 8/10\n",
      "6476/6476 [==============================] - 17s 3ms/step - loss: 10473973.0000\n",
      "Epoch 9/10\n",
      "6476/6476 [==============================] - 14s 2ms/step - loss: 10184461.0000\n",
      "Epoch 10/10\n",
      "6476/6476 [==============================] - 14s 2ms/step - loss: 9092992.0000\n",
      "##########\n",
      "dnn in time 893.4226038455963\n"
     ]
    }
   ],
   "source": [
    "dl_summary = {}\n",
    "for m in [\"dnn\"]:\n",
    "    ti = time.time()\n",
    "    dl_summary = {**dl_summary, **execute_dl_models(m)}\n",
    "    print(\"#\"*10)\n",
    "    print(f\"{m} in time {time.time() - ti}\")"
   ]
  },
  {
   "cell_type": "code",
   "execution_count": 122,
   "id": "afb0f767-92f1-4332-a7c7-e10646645a98",
   "metadata": {},
   "outputs": [
    {
     "data": {
      "text/plain": [
       "{'dnn': [6.522731291052103e+36,\n",
       "  1.2975927264902593e+37,\n",
       "  3261.372821053553,\n",
       "  336.2836928743187,\n",
       "  4528.454685891027,\n",
       "  361.30541156149064]}"
      ]
     },
     "execution_count": 122,
     "metadata": {},
     "output_type": "execute_result"
    }
   ],
   "source": [
    "dl_summary"
   ]
  },
  {
   "cell_type": "markdown",
   "id": "5f76997b-5099-41d2-a380-29551cd9338d",
   "metadata": {},
   "source": [
    "<a href=\"#toc\"><p style=\"text-align:right;\" href=\"#toc\">Back To Table Of Contents</p></a> \n",
    "<a id = \"3.\"></a>\n",
    "# 3. Model Selection"
   ]
  },
  {
   "cell_type": "markdown",
   "id": "1a8641f2-ec7e-47ff-bd41-75cc69649926",
   "metadata": {},
   "source": [
    "After this analysis we can say that the best approach is the ML approach due to the RMSE at 10 time steps is the lowest."
   ]
  },
  {
   "cell_type": "code",
   "execution_count": 99,
   "id": "65b287d6-e3f7-426e-9357-1107031e8bf6",
   "metadata": {},
   "outputs": [],
   "source": [
    "last_fold = pd.concat([kfolds[-1][0], kfolds[-1][1]])"
   ]
  },
  {
   "cell_type": "code",
   "execution_count": 100,
   "id": "c99cd916-752b-48b4-a228-7db08c0e6f74",
   "metadata": {},
   "outputs": [
    {
     "name": "stdout",
     "output_type": "stream",
     "text": [
      "##########\n",
      "(LGBMRegressor(max_depth=10), 1, True) in time 35.61240315437317\n"
     ]
    }
   ],
   "source": [
    "models = [\n",
    "    (LGBMRegressor(n_estimators=100, max_depth=10, n_jobs=-1), 1, True)\n",
    "]\n",
    "\n",
    "summ_last = {}\n",
    "for model in models:\n",
    "    ti = time.time()\n",
    "    summ_last = {**summ_last, **execute_model(model[0], model[1], model[2], [(last_fold, kfolds[-1][-1])], True)}\n",
    "    print(\"#\"*10)\n",
    "    print(f\"{model.__str__()} in time {time.time() - ti}\")"
   ]
  },
  {
   "cell_type": "code",
   "execution_count": 101,
   "id": "36e3e451-502a-436f-a329-579504d48276",
   "metadata": {
    "collapsed": true,
    "jupyter": {
     "outputs_hidden": true
    },
    "tags": []
   },
   "outputs": [
    {
     "data": {
      "text/plain": [
       "{'LGBMRegressor(max_depth=10) 1 True': [3747.9896755535065,\n",
       "  0.0,\n",
       "  2388.907360611566,\n",
       "  0.0,\n",
       "  3153.269931282294,\n",
       "  0.0,\n",
       "       almacen producto last_weekday  unidades          lag1          lag2  \\\n",
       "  0        XXA  XXLjcfd   2020-10-25   10000.0      0.000000      0.000000   \n",
       "  10       XXA  XXLjgab   2020-10-25       0.0      0.000000      0.000000   \n",
       "  20       XXA  XXLjiaa   2020-10-25       0.0      0.000000      0.000000   \n",
       "  30       XXA  XXNaaae   2020-10-25       0.0      0.000000      0.000000   \n",
       "  40       XXA  XXNaaaf   2020-10-25       0.0      0.000000      0.000000   \n",
       "  ...      ...      ...          ...       ...           ...           ...   \n",
       "  5759     XXI  XXNjiia   2020-12-27   25000.0  38861.194469  27285.642547   \n",
       "  5769     XXJ  XXNjfeb   2020-12-27    2448.0   2232.808835   1632.396039   \n",
       "  5779     XXJ  XXNjfec   2020-12-27       0.0    990.267104    782.444098   \n",
       "  5789     XXJ  XXNjffd   2020-12-27       0.0   1005.376312    684.685520   \n",
       "  5799     XXJ  XXNjfff   2020-12-27     576.0    907.956056    670.842950   \n",
       "  \n",
       "                lag3          lag4          lag5          lag6  ...  x0_XXNjjdf  \\\n",
       "  0         0.000000      0.000000      0.000000    100.000000  ...         0.0   \n",
       "  10        0.000000      0.000000      0.000000      0.000000  ...         0.0   \n",
       "  20        0.000000      0.000000      0.000000      0.000000  ...         0.0   \n",
       "  30        0.000000      0.000000      0.000000      0.000000  ...         0.0   \n",
       "  40        0.000000      0.000000      0.000000      0.000000  ...         0.0   \n",
       "  ...            ...           ...           ...           ...  ...         ...   \n",
       "  5759  39483.589470  29316.479545  36161.289031  34389.616736  ...         0.0   \n",
       "  5769   1576.169781   1694.858238   1730.531839   1694.858238  ...         0.0   \n",
       "  5779    774.128176   1012.421374    878.601237    964.128362  ...         0.0   \n",
       "  5789    781.321174   1010.877265    856.515208    942.042333  ...         0.0   \n",
       "  5799    898.404166    775.316012    639.012909    670.842950  ...         0.0   \n",
       "  \n",
       "        x0_XXNjjeh  x0_XXNjjfc  x0_XXNjjfd  x0_XXNjjff  x0_XXNjjfj  x0_XXNjjgc  \\\n",
       "  0            0.0         0.0         0.0         0.0         0.0         0.0   \n",
       "  10           0.0         0.0         0.0         0.0         0.0         0.0   \n",
       "  20           0.0         0.0         0.0         0.0         0.0         0.0   \n",
       "  30           0.0         0.0         0.0         0.0         0.0         0.0   \n",
       "  40           0.0         0.0         0.0         0.0         0.0         0.0   \n",
       "  ...          ...         ...         ...         ...         ...         ...   \n",
       "  5759         0.0         0.0         0.0         0.0         0.0         0.0   \n",
       "  5769         0.0         0.0         0.0         0.0         0.0         0.0   \n",
       "  5779         0.0         0.0         0.0         0.0         0.0         0.0   \n",
       "  5789         0.0         0.0         0.0         0.0         0.0         0.0   \n",
       "  5799         0.0         0.0         0.0         0.0         0.0         0.0   \n",
       "  \n",
       "        x0_XXNjjgd  x0_XXNjjha   forecasting  \n",
       "  0            0.0         0.0     61.579221  \n",
       "  10           0.0         0.0     61.579221  \n",
       "  20           0.0         0.0     46.754459  \n",
       "  30           0.0         0.0     61.579221  \n",
       "  40           0.0         0.0     56.167457  \n",
       "  ...          ...         ...           ...  \n",
       "  5759         0.0         0.0  31133.412067  \n",
       "  5769         0.0         0.0   1694.858238  \n",
       "  5779         0.0         0.0    964.128362  \n",
       "  5789         0.0         0.0    942.042333  \n",
       "  5799         0.0         0.0    670.842950  \n",
       "  \n",
       "  [5580 rows x 345 columns],\n",
       "  Pipeline(steps=[('processor',\n",
       "                   ColumnTransformer(transformers=[('lags_pipe',\n",
       "                                                    Pipeline(steps=[('scaler_lags',\n",
       "                                                                     MinMaxScaler(feature_range=(0,\n",
       "                                                                                                 10))),\n",
       "                                                                    ('poly_lags',\n",
       "                                                                     PolynomialFeatures(interaction_only=True)),\n",
       "                                                                    ('selectkbest',\n",
       "                                                                     SelectKBest(k=12,\n",
       "                                                                                 score_func=<function f_regression at 0x00000256270DDCA0>))]),\n",
       "                                                    ['lag1', 'lag2', 'lag3',\n",
       "                                                     'lag4', 'lag5', 'lag6',\n",
       "                                                     'lag7', 'lag8', 'lag9'...\n",
       "                                                     'x0_XXI', 'x0_XXJ',\n",
       "                                                     'x0_XXLjcfd', 'x0_XXLjgab',\n",
       "                                                     'x0_XXLjiaa', 'x0_XXMajjj',\n",
       "                                                     'x0_XXNaaae', 'x0_XXNaaaf',\n",
       "                                                     'x0_XXNaaag', 'x0_XXNaaah',\n",
       "                                                     'x0_XXNaaai', 'x0_XXNaabd',\n",
       "                                                     'x0_XXNaabg', 'x0_XXNaadh',\n",
       "                                                     'x0_XXNaadi', 'x0_XXNaaea',\n",
       "                                                     'x0_XXNaaeb', 'x0_XXNaaec',\n",
       "                                                     'x0_XXNaaeh', 'x0_XXNaaei',\n",
       "                                                     'x0_XXNaaej', 'x0_XXNaafa',\n",
       "                                                     'x0_XXNaafb', 'x0_XXNaage', ...])])),\n",
       "                  ('model', LGBMRegressor(max_depth=10))])]}"
      ]
     },
     "execution_count": 101,
     "metadata": {},
     "output_type": "execute_result"
    }
   ],
   "source": [
    "summ_last"
   ]
  },
  {
   "cell_type": "code",
   "execution_count": 109,
   "id": "f478cc19-fcf5-46bd-bb00-4a3e73b1f918",
   "metadata": {},
   "outputs": [],
   "source": [
    "pipe = summ_last.get(\"LGBMRegressor(max_depth=10) 1 True\")[-1]"
   ]
  },
  {
   "cell_type": "code",
   "execution_count": 103,
   "id": "446cb970-7e6c-482e-ab73-505d35911439",
   "metadata": {},
   "outputs": [
    {
     "data": {
      "text/plain": [
       "(558, 344)"
      ]
     },
     "execution_count": 103,
     "metadata": {},
     "output_type": "execute_result"
    }
   ],
   "source": [
    "pred_fold = last_fold[last_fold[\"last_weekday\"] == last_fold[\"last_weekday\"].max()]\n",
    "pred_fold.shape"
   ]
  },
  {
   "cell_type": "code",
   "execution_count": 104,
   "id": "5eab5789-c145-441f-bb7f-3a4234b1c0c6",
   "metadata": {},
   "outputs": [],
   "source": [
    "df_concat_list = []\n",
    "for d in range(10):\n",
    "    lf = pred_fold.copy()\n",
    "    if d == 0:\n",
    "        df_concat_list.append(lf)\n",
    "    else:\n",
    "        lf[\"last_weekday\"] = lf[\"last_weekday\"] + datetime.timedelta(days=7*d)\n",
    "        df_concat_list.append(lf)\n",
    "\n",
    "pred_fold = pd.concat(df_concat_list)"
   ]
  },
  {
   "cell_type": "code",
   "execution_count": 105,
   "id": "dd17fb8c-dd6b-4781-a3e4-d5f0b53b8622",
   "metadata": {},
   "outputs": [
    {
     "data": {
      "text/plain": [
       "(5580, 344)"
      ]
     },
     "execution_count": 105,
     "metadata": {},
     "output_type": "execute_result"
    }
   ],
   "source": [
    "pred_fold.shape"
   ]
  },
  {
   "cell_type": "code",
   "execution_count": 106,
   "id": "f943d66b-259e-4ad2-a30b-fab648caab89",
   "metadata": {},
   "outputs": [
    {
     "data": {
      "text/html": [
       "<div>\n",
       "<style scoped>\n",
       "    .dataframe tbody tr th:only-of-type {\n",
       "        vertical-align: middle;\n",
       "    }\n",
       "\n",
       "    .dataframe tbody tr th {\n",
       "        vertical-align: top;\n",
       "    }\n",
       "\n",
       "    .dataframe thead th {\n",
       "        text-align: right;\n",
       "    }\n",
       "</style>\n",
       "<table border=\"1\" class=\"dataframe\">\n",
       "  <thead>\n",
       "    <tr style=\"text-align: right;\">\n",
       "      <th></th>\n",
       "      <th>almacen</th>\n",
       "      <th>producto</th>\n",
       "      <th>last_weekday</th>\n",
       "      <th>unidades</th>\n",
       "      <th>lag1</th>\n",
       "      <th>lag2</th>\n",
       "      <th>lag3</th>\n",
       "      <th>lag4</th>\n",
       "      <th>lag5</th>\n",
       "      <th>lag6</th>\n",
       "      <th>...</th>\n",
       "      <th>x0_XXNjiie</th>\n",
       "      <th>x0_XXNjjdf</th>\n",
       "      <th>x0_XXNjjeh</th>\n",
       "      <th>x0_XXNjjfc</th>\n",
       "      <th>x0_XXNjjfd</th>\n",
       "      <th>x0_XXNjjff</th>\n",
       "      <th>x0_XXNjjfj</th>\n",
       "      <th>x0_XXNjjgc</th>\n",
       "      <th>x0_XXNjjgd</th>\n",
       "      <th>x0_XXNjjha</th>\n",
       "    </tr>\n",
       "  </thead>\n",
       "  <tbody>\n",
       "    <tr>\n",
       "      <th>9</th>\n",
       "      <td>XXA</td>\n",
       "      <td>XXLjcfd</td>\n",
       "      <td>2020-12-27</td>\n",
       "      <td>0.0</td>\n",
       "      <td>0.0</td>\n",
       "      <td>0.0</td>\n",
       "      <td>0.0</td>\n",
       "      <td>0.0</td>\n",
       "      <td>0.0</td>\n",
       "      <td>700.0</td>\n",
       "      <td>...</td>\n",
       "      <td>0.0</td>\n",
       "      <td>0.0</td>\n",
       "      <td>0.0</td>\n",
       "      <td>0.0</td>\n",
       "      <td>0.0</td>\n",
       "      <td>0.0</td>\n",
       "      <td>0.0</td>\n",
       "      <td>0.0</td>\n",
       "      <td>0.0</td>\n",
       "      <td>0.0</td>\n",
       "    </tr>\n",
       "    <tr>\n",
       "      <th>19</th>\n",
       "      <td>XXA</td>\n",
       "      <td>XXLjgab</td>\n",
       "      <td>2020-12-27</td>\n",
       "      <td>0.0</td>\n",
       "      <td>0.0</td>\n",
       "      <td>0.0</td>\n",
       "      <td>0.0</td>\n",
       "      <td>0.0</td>\n",
       "      <td>0.0</td>\n",
       "      <td>2000.0</td>\n",
       "      <td>...</td>\n",
       "      <td>0.0</td>\n",
       "      <td>0.0</td>\n",
       "      <td>0.0</td>\n",
       "      <td>0.0</td>\n",
       "      <td>0.0</td>\n",
       "      <td>0.0</td>\n",
       "      <td>0.0</td>\n",
       "      <td>0.0</td>\n",
       "      <td>0.0</td>\n",
       "      <td>0.0</td>\n",
       "    </tr>\n",
       "  </tbody>\n",
       "</table>\n",
       "<p>2 rows × 344 columns</p>\n",
       "</div>"
      ],
      "text/plain": [
       "   almacen producto last_weekday  unidades  lag1  lag2  lag3  lag4  lag5  \\\n",
       "9      XXA  XXLjcfd   2020-12-27       0.0   0.0   0.0   0.0   0.0   0.0   \n",
       "19     XXA  XXLjgab   2020-12-27       0.0   0.0   0.0   0.0   0.0   0.0   \n",
       "\n",
       "      lag6  ...  x0_XXNjiie  x0_XXNjjdf  x0_XXNjjeh  x0_XXNjjfc  x0_XXNjjfd  \\\n",
       "9    700.0  ...         0.0         0.0         0.0         0.0         0.0   \n",
       "19  2000.0  ...         0.0         0.0         0.0         0.0         0.0   \n",
       "\n",
       "    x0_XXNjjff  x0_XXNjjfj  x0_XXNjjgc  x0_XXNjjgd  x0_XXNjjha  \n",
       "9          0.0         0.0         0.0         0.0         0.0  \n",
       "19         0.0         0.0         0.0         0.0         0.0  \n",
       "\n",
       "[2 rows x 344 columns]"
      ]
     },
     "execution_count": 106,
     "metadata": {},
     "output_type": "execute_result"
    }
   ],
   "source": [
    "pred_fold.head(2)"
   ]
  },
  {
   "cell_type": "code",
   "execution_count": 113,
   "id": "59a38017-209b-4538-bae0-ddc644c25f8f",
   "metadata": {},
   "outputs": [],
   "source": [
    "col_stores = [f\"x0_{store}\" for store in last_fold[\"almacen\"].unique()]\n",
    "col_products = [f\"x0_{product}\" for product in last_fold[\"producto\"].unique()]"
   ]
  },
  {
   "cell_type": "code",
   "execution_count": 114,
   "id": "8bc0460e-e829-41bc-954c-46cc51e68de9",
   "metadata": {},
   "outputs": [],
   "source": [
    "fcast_end = forecast(pipe, pred_fold, col_lags + col_stores + col_products)"
   ]
  },
  {
   "cell_type": "code",
   "execution_count": 116,
   "id": "db4c13ed-e8bd-4f1d-ad30-658e1e1feeae",
   "metadata": {},
   "outputs": [],
   "source": [
    "fcast_end.to_csv(\"../DATA/results.csv\", index=False)"
   ]
  },
  {
   "cell_type": "code",
   "execution_count": null,
   "id": "736c41e8-77a1-4d27-a0f1-5abfbeecccf3",
   "metadata": {},
   "outputs": [],
   "source": []
  }
 ],
 "metadata": {
  "kernelspec": {
   "display_name": "Python 3",
   "language": "python",
   "name": "python3"
  },
  "language_info": {
   "codemirror_mode": {
    "name": "ipython",
    "version": 3
   },
   "file_extension": ".py",
   "mimetype": "text/x-python",
   "name": "python",
   "nbconvert_exporter": "python",
   "pygments_lexer": "ipython3",
   "version": "3.8.10"
  }
 },
 "nbformat": 4,
 "nbformat_minor": 5
}
